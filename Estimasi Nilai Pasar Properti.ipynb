{
  "cells": [
    {
      "cell_type": "code",
      "execution_count": null,
      "metadata": {
        "id": "lXqfenPbqkD-"
      },
      "outputs": [],
      "source": [
        "import pandas as pd\n",
        "import numpy as np\n"
      ]
    },
    {
      "cell_type": "code",
      "execution_count": null,
      "metadata": {
        "id": "939PWjZKqkEC",
        "colab": {
          "base_uri": "https://localhost:8080/",
          "height": 73
        },
        "outputId": "e79f9bbd-7857-4d5a-c21f-459bfb444b3f"
      },
      "outputs": [
        {
          "output_type": "display_data",
          "data": {
            "text/plain": [
              "<IPython.core.display.HTML object>"
            ],
            "text/html": [
              "\n",
              "     <input type=\"file\" id=\"files-b4348834-a1da-4a5c-8c8a-583cd48d6ac9\" name=\"files[]\" multiple disabled\n",
              "        style=\"border:none\" />\n",
              "     <output id=\"result-b4348834-a1da-4a5c-8c8a-583cd48d6ac9\">\n",
              "      Upload widget is only available when the cell has been executed in the\n",
              "      current browser session. Please rerun this cell to enable.\n",
              "      </output>\n",
              "      <script>// Copyright 2017 Google LLC\n",
              "//\n",
              "// Licensed under the Apache License, Version 2.0 (the \"License\");\n",
              "// you may not use this file except in compliance with the License.\n",
              "// You may obtain a copy of the License at\n",
              "//\n",
              "//      http://www.apache.org/licenses/LICENSE-2.0\n",
              "//\n",
              "// Unless required by applicable law or agreed to in writing, software\n",
              "// distributed under the License is distributed on an \"AS IS\" BASIS,\n",
              "// WITHOUT WARRANTIES OR CONDITIONS OF ANY KIND, either express or implied.\n",
              "// See the License for the specific language governing permissions and\n",
              "// limitations under the License.\n",
              "\n",
              "/**\n",
              " * @fileoverview Helpers for google.colab Python module.\n",
              " */\n",
              "(function(scope) {\n",
              "function span(text, styleAttributes = {}) {\n",
              "  const element = document.createElement('span');\n",
              "  element.textContent = text;\n",
              "  for (const key of Object.keys(styleAttributes)) {\n",
              "    element.style[key] = styleAttributes[key];\n",
              "  }\n",
              "  return element;\n",
              "}\n",
              "\n",
              "// Max number of bytes which will be uploaded at a time.\n",
              "const MAX_PAYLOAD_SIZE = 100 * 1024;\n",
              "\n",
              "function _uploadFiles(inputId, outputId) {\n",
              "  const steps = uploadFilesStep(inputId, outputId);\n",
              "  const outputElement = document.getElementById(outputId);\n",
              "  // Cache steps on the outputElement to make it available for the next call\n",
              "  // to uploadFilesContinue from Python.\n",
              "  outputElement.steps = steps;\n",
              "\n",
              "  return _uploadFilesContinue(outputId);\n",
              "}\n",
              "\n",
              "// This is roughly an async generator (not supported in the browser yet),\n",
              "// where there are multiple asynchronous steps and the Python side is going\n",
              "// to poll for completion of each step.\n",
              "// This uses a Promise to block the python side on completion of each step,\n",
              "// then passes the result of the previous step as the input to the next step.\n",
              "function _uploadFilesContinue(outputId) {\n",
              "  const outputElement = document.getElementById(outputId);\n",
              "  const steps = outputElement.steps;\n",
              "\n",
              "  const next = steps.next(outputElement.lastPromiseValue);\n",
              "  return Promise.resolve(next.value.promise).then((value) => {\n",
              "    // Cache the last promise value to make it available to the next\n",
              "    // step of the generator.\n",
              "    outputElement.lastPromiseValue = value;\n",
              "    return next.value.response;\n",
              "  });\n",
              "}\n",
              "\n",
              "/**\n",
              " * Generator function which is called between each async step of the upload\n",
              " * process.\n",
              " * @param {string} inputId Element ID of the input file picker element.\n",
              " * @param {string} outputId Element ID of the output display.\n",
              " * @return {!Iterable<!Object>} Iterable of next steps.\n",
              " */\n",
              "function* uploadFilesStep(inputId, outputId) {\n",
              "  const inputElement = document.getElementById(inputId);\n",
              "  inputElement.disabled = false;\n",
              "\n",
              "  const outputElement = document.getElementById(outputId);\n",
              "  outputElement.innerHTML = '';\n",
              "\n",
              "  const pickedPromise = new Promise((resolve) => {\n",
              "    inputElement.addEventListener('change', (e) => {\n",
              "      resolve(e.target.files);\n",
              "    });\n",
              "  });\n",
              "\n",
              "  const cancel = document.createElement('button');\n",
              "  inputElement.parentElement.appendChild(cancel);\n",
              "  cancel.textContent = 'Cancel upload';\n",
              "  const cancelPromise = new Promise((resolve) => {\n",
              "    cancel.onclick = () => {\n",
              "      resolve(null);\n",
              "    };\n",
              "  });\n",
              "\n",
              "  // Wait for the user to pick the files.\n",
              "  const files = yield {\n",
              "    promise: Promise.race([pickedPromise, cancelPromise]),\n",
              "    response: {\n",
              "      action: 'starting',\n",
              "    }\n",
              "  };\n",
              "\n",
              "  cancel.remove();\n",
              "\n",
              "  // Disable the input element since further picks are not allowed.\n",
              "  inputElement.disabled = true;\n",
              "\n",
              "  if (!files) {\n",
              "    return {\n",
              "      response: {\n",
              "        action: 'complete',\n",
              "      }\n",
              "    };\n",
              "  }\n",
              "\n",
              "  for (const file of files) {\n",
              "    const li = document.createElement('li');\n",
              "    li.append(span(file.name, {fontWeight: 'bold'}));\n",
              "    li.append(span(\n",
              "        `(${file.type || 'n/a'}) - ${file.size} bytes, ` +\n",
              "        `last modified: ${\n",
              "            file.lastModifiedDate ? file.lastModifiedDate.toLocaleDateString() :\n",
              "                                    'n/a'} - `));\n",
              "    const percent = span('0% done');\n",
              "    li.appendChild(percent);\n",
              "\n",
              "    outputElement.appendChild(li);\n",
              "\n",
              "    const fileDataPromise = new Promise((resolve) => {\n",
              "      const reader = new FileReader();\n",
              "      reader.onload = (e) => {\n",
              "        resolve(e.target.result);\n",
              "      };\n",
              "      reader.readAsArrayBuffer(file);\n",
              "    });\n",
              "    // Wait for the data to be ready.\n",
              "    let fileData = yield {\n",
              "      promise: fileDataPromise,\n",
              "      response: {\n",
              "        action: 'continue',\n",
              "      }\n",
              "    };\n",
              "\n",
              "    // Use a chunked sending to avoid message size limits. See b/62115660.\n",
              "    let position = 0;\n",
              "    do {\n",
              "      const length = Math.min(fileData.byteLength - position, MAX_PAYLOAD_SIZE);\n",
              "      const chunk = new Uint8Array(fileData, position, length);\n",
              "      position += length;\n",
              "\n",
              "      const base64 = btoa(String.fromCharCode.apply(null, chunk));\n",
              "      yield {\n",
              "        response: {\n",
              "          action: 'append',\n",
              "          file: file.name,\n",
              "          data: base64,\n",
              "        },\n",
              "      };\n",
              "\n",
              "      let percentDone = fileData.byteLength === 0 ?\n",
              "          100 :\n",
              "          Math.round((position / fileData.byteLength) * 100);\n",
              "      percent.textContent = `${percentDone}% done`;\n",
              "\n",
              "    } while (position < fileData.byteLength);\n",
              "  }\n",
              "\n",
              "  // All done.\n",
              "  yield {\n",
              "    response: {\n",
              "      action: 'complete',\n",
              "    }\n",
              "  };\n",
              "}\n",
              "\n",
              "scope.google = scope.google || {};\n",
              "scope.google.colab = scope.google.colab || {};\n",
              "scope.google.colab._files = {\n",
              "  _uploadFiles,\n",
              "  _uploadFilesContinue,\n",
              "};\n",
              "})(self);\n",
              "</script> "
            ]
          },
          "metadata": {}
        },
        {
          "output_type": "stream",
          "name": "stdout",
          "text": [
            "Saving tes.xlsx to tes.xlsx\n"
          ]
        }
      ],
      "source": [
        "#data = pd.read_excel(\"E:\\Kuliah\\S2\\Thesis\\Scraping data properti\\data_properti_11-07-2022.xlsx\")\n",
        "from google.colab import files \n",
        "uploaded = files.upload()\n",
        "#Code ini digunakan ketika file excel/csv yang digunakan berasal dari server atau laptop user"
      ]
    },
    {
      "cell_type": "code",
      "source": [
        "data = pd.read_excel('tes.xlsx')\n",
        "data.head()"
      ],
      "metadata": {
        "id": "GtDDomqPswMo",
        "colab": {
          "base_uri": "https://localhost:8080/",
          "height": 652
        },
        "outputId": "1ad55a19-8dc3-4be7-b19a-ebbb4f350951"
      },
      "execution_count": null,
      "outputs": [
        {
          "output_type": "execute_result",
          "data": {
            "text/plain": [
              "                  id                                               nama  \\\n",
              "0  HO6307333512669ID  Jual Rumah Murah dalam Perumahan full furnishe...   \n",
              "1  HO63099F760949CID  RUMAH MODERN MINIMALIST 100 JUTA AN DI JOGJA\\n...   \n",
              "2  HO62ECBE115F461ID  Rumah Villa Di Maguwoharjo\\n                  ...   \n",
              "3  HO62DB7C32E5F7EID  PERUMAHAN 100 JUTAAN DI BANTUL\\n              ...   \n",
              "4  HO62F4F5E20BD2EID  TERLARIS,PROMO MERDEKA RUMAH MURAH SLEMAN DESA...   \n",
              "\n",
              "       price                                          deskripsi  \\\n",
              "0  469000000  Lokasi Strategis di Perumahan Potorono, Cepoko...   \n",
              "1  185000000  PERUMAHAN HAPPY HOMES HILLS  Fasilitas : - One...   \n",
              "2  270000000  FASILITAS: One Gate System Akses Bisa 2 Mobil ...   \n",
              "3  155000000  PERUMAHAN HAPPY HOMES HILLS Promo Rumah Americ...   \n",
              "4  369000000  PROMO MERDEKA 77 FREE BPHTB FREE AJB FREE Nota...   \n",
              "\n",
              "                  alamat category                     sub_category  bedrooms  \\\n",
              "0     Banguntapan Bantul    house  [\"house\",\"single-family-house\"]         3   \n",
              "1  Yogyakarta Yogyakarta    house     [\"house\",\"subsidized-house\"]         2   \n",
              "2     Maguwoharjo Sleman    house                [\"house\",\"villa\"]         2   \n",
              "3  Yogyakarta Yogyakarta    house     [\"house\",\"subsidized-house\"]         2   \n",
              "4           Depok Sleman    house  [\"house\",\"single-family-house\"]         2   \n",
              "\n",
              "   bathrooms  build_size  land_size  data_furnished                   geo_loc  \n",
              "0          2        75.0      112.0             NaN                       NaN  \n",
              "1          1        36.0       73.0             NaN  [110.3682591,-7.8022815]  \n",
              "2          2        78.0       94.0             NaN                       NaN  \n",
              "3          1        30.0       60.0             NaN  [110.3682591,-7.8022815]  \n",
              "4          1        36.0       90.0             NaN    [110.386374,-7.772645]  "
            ],
            "text/html": [
              "\n",
              "  <div id=\"df-29a8ddfa-009b-4c51-a99d-792ad48f79ac\">\n",
              "    <div class=\"colab-df-container\">\n",
              "      <div>\n",
              "<style scoped>\n",
              "    .dataframe tbody tr th:only-of-type {\n",
              "        vertical-align: middle;\n",
              "    }\n",
              "\n",
              "    .dataframe tbody tr th {\n",
              "        vertical-align: top;\n",
              "    }\n",
              "\n",
              "    .dataframe thead th {\n",
              "        text-align: right;\n",
              "    }\n",
              "</style>\n",
              "<table border=\"1\" class=\"dataframe\">\n",
              "  <thead>\n",
              "    <tr style=\"text-align: right;\">\n",
              "      <th></th>\n",
              "      <th>id</th>\n",
              "      <th>nama</th>\n",
              "      <th>price</th>\n",
              "      <th>deskripsi</th>\n",
              "      <th>alamat</th>\n",
              "      <th>category</th>\n",
              "      <th>sub_category</th>\n",
              "      <th>bedrooms</th>\n",
              "      <th>bathrooms</th>\n",
              "      <th>build_size</th>\n",
              "      <th>land_size</th>\n",
              "      <th>data_furnished</th>\n",
              "      <th>geo_loc</th>\n",
              "    </tr>\n",
              "  </thead>\n",
              "  <tbody>\n",
              "    <tr>\n",
              "      <th>0</th>\n",
              "      <td>HO6307333512669ID</td>\n",
              "      <td>Jual Rumah Murah dalam Perumahan full furnishe...</td>\n",
              "      <td>469000000</td>\n",
              "      <td>Lokasi Strategis di Perumahan Potorono, Cepoko...</td>\n",
              "      <td>Banguntapan Bantul</td>\n",
              "      <td>house</td>\n",
              "      <td>[\"house\",\"single-family-house\"]</td>\n",
              "      <td>3</td>\n",
              "      <td>2</td>\n",
              "      <td>75.0</td>\n",
              "      <td>112.0</td>\n",
              "      <td>NaN</td>\n",
              "      <td>NaN</td>\n",
              "    </tr>\n",
              "    <tr>\n",
              "      <th>1</th>\n",
              "      <td>HO63099F760949CID</td>\n",
              "      <td>RUMAH MODERN MINIMALIST 100 JUTA AN DI JOGJA\\n...</td>\n",
              "      <td>185000000</td>\n",
              "      <td>PERUMAHAN HAPPY HOMES HILLS  Fasilitas : - One...</td>\n",
              "      <td>Yogyakarta Yogyakarta</td>\n",
              "      <td>house</td>\n",
              "      <td>[\"house\",\"subsidized-house\"]</td>\n",
              "      <td>2</td>\n",
              "      <td>1</td>\n",
              "      <td>36.0</td>\n",
              "      <td>73.0</td>\n",
              "      <td>NaN</td>\n",
              "      <td>[110.3682591,-7.8022815]</td>\n",
              "    </tr>\n",
              "    <tr>\n",
              "      <th>2</th>\n",
              "      <td>HO62ECBE115F461ID</td>\n",
              "      <td>Rumah Villa Di Maguwoharjo\\n                  ...</td>\n",
              "      <td>270000000</td>\n",
              "      <td>FASILITAS: One Gate System Akses Bisa 2 Mobil ...</td>\n",
              "      <td>Maguwoharjo Sleman</td>\n",
              "      <td>house</td>\n",
              "      <td>[\"house\",\"villa\"]</td>\n",
              "      <td>2</td>\n",
              "      <td>2</td>\n",
              "      <td>78.0</td>\n",
              "      <td>94.0</td>\n",
              "      <td>NaN</td>\n",
              "      <td>NaN</td>\n",
              "    </tr>\n",
              "    <tr>\n",
              "      <th>3</th>\n",
              "      <td>HO62DB7C32E5F7EID</td>\n",
              "      <td>PERUMAHAN 100 JUTAAN DI BANTUL\\n              ...</td>\n",
              "      <td>155000000</td>\n",
              "      <td>PERUMAHAN HAPPY HOMES HILLS Promo Rumah Americ...</td>\n",
              "      <td>Yogyakarta Yogyakarta</td>\n",
              "      <td>house</td>\n",
              "      <td>[\"house\",\"subsidized-house\"]</td>\n",
              "      <td>2</td>\n",
              "      <td>1</td>\n",
              "      <td>30.0</td>\n",
              "      <td>60.0</td>\n",
              "      <td>NaN</td>\n",
              "      <td>[110.3682591,-7.8022815]</td>\n",
              "    </tr>\n",
              "    <tr>\n",
              "      <th>4</th>\n",
              "      <td>HO62F4F5E20BD2EID</td>\n",
              "      <td>TERLARIS,PROMO MERDEKA RUMAH MURAH SLEMAN DESA...</td>\n",
              "      <td>369000000</td>\n",
              "      <td>PROMO MERDEKA 77 FREE BPHTB FREE AJB FREE Nota...</td>\n",
              "      <td>Depok Sleman</td>\n",
              "      <td>house</td>\n",
              "      <td>[\"house\",\"single-family-house\"]</td>\n",
              "      <td>2</td>\n",
              "      <td>1</td>\n",
              "      <td>36.0</td>\n",
              "      <td>90.0</td>\n",
              "      <td>NaN</td>\n",
              "      <td>[110.386374,-7.772645]</td>\n",
              "    </tr>\n",
              "  </tbody>\n",
              "</table>\n",
              "</div>\n",
              "      <button class=\"colab-df-convert\" onclick=\"convertToInteractive('df-29a8ddfa-009b-4c51-a99d-792ad48f79ac')\"\n",
              "              title=\"Convert this dataframe to an interactive table.\"\n",
              "              style=\"display:none;\">\n",
              "        \n",
              "  <svg xmlns=\"http://www.w3.org/2000/svg\" height=\"24px\"viewBox=\"0 0 24 24\"\n",
              "       width=\"24px\">\n",
              "    <path d=\"M0 0h24v24H0V0z\" fill=\"none\"/>\n",
              "    <path d=\"M18.56 5.44l.94 2.06.94-2.06 2.06-.94-2.06-.94-.94-2.06-.94 2.06-2.06.94zm-11 1L8.5 8.5l.94-2.06 2.06-.94-2.06-.94L8.5 2.5l-.94 2.06-2.06.94zm10 10l.94 2.06.94-2.06 2.06-.94-2.06-.94-.94-2.06-.94 2.06-2.06.94z\"/><path d=\"M17.41 7.96l-1.37-1.37c-.4-.4-.92-.59-1.43-.59-.52 0-1.04.2-1.43.59L10.3 9.45l-7.72 7.72c-.78.78-.78 2.05 0 2.83L4 21.41c.39.39.9.59 1.41.59.51 0 1.02-.2 1.41-.59l7.78-7.78 2.81-2.81c.8-.78.8-2.07 0-2.86zM5.41 20L4 18.59l7.72-7.72 1.47 1.35L5.41 20z\"/>\n",
              "  </svg>\n",
              "      </button>\n",
              "      \n",
              "  <style>\n",
              "    .colab-df-container {\n",
              "      display:flex;\n",
              "      flex-wrap:wrap;\n",
              "      gap: 12px;\n",
              "    }\n",
              "\n",
              "    .colab-df-convert {\n",
              "      background-color: #E8F0FE;\n",
              "      border: none;\n",
              "      border-radius: 50%;\n",
              "      cursor: pointer;\n",
              "      display: none;\n",
              "      fill: #1967D2;\n",
              "      height: 32px;\n",
              "      padding: 0 0 0 0;\n",
              "      width: 32px;\n",
              "    }\n",
              "\n",
              "    .colab-df-convert:hover {\n",
              "      background-color: #E2EBFA;\n",
              "      box-shadow: 0px 1px 2px rgba(60, 64, 67, 0.3), 0px 1px 3px 1px rgba(60, 64, 67, 0.15);\n",
              "      fill: #174EA6;\n",
              "    }\n",
              "\n",
              "    [theme=dark] .colab-df-convert {\n",
              "      background-color: #3B4455;\n",
              "      fill: #D2E3FC;\n",
              "    }\n",
              "\n",
              "    [theme=dark] .colab-df-convert:hover {\n",
              "      background-color: #434B5C;\n",
              "      box-shadow: 0px 1px 3px 1px rgba(0, 0, 0, 0.15);\n",
              "      filter: drop-shadow(0px 1px 2px rgba(0, 0, 0, 0.3));\n",
              "      fill: #FFFFFF;\n",
              "    }\n",
              "  </style>\n",
              "\n",
              "      <script>\n",
              "        const buttonEl =\n",
              "          document.querySelector('#df-29a8ddfa-009b-4c51-a99d-792ad48f79ac button.colab-df-convert');\n",
              "        buttonEl.style.display =\n",
              "          google.colab.kernel.accessAllowed ? 'block' : 'none';\n",
              "\n",
              "        async function convertToInteractive(key) {\n",
              "          const element = document.querySelector('#df-29a8ddfa-009b-4c51-a99d-792ad48f79ac');\n",
              "          const dataTable =\n",
              "            await google.colab.kernel.invokeFunction('convertToInteractive',\n",
              "                                                     [key], {});\n",
              "          if (!dataTable) return;\n",
              "\n",
              "          const docLinkHtml = 'Like what you see? Visit the ' +\n",
              "            '<a target=\"_blank\" href=https://colab.research.google.com/notebooks/data_table.ipynb>data table notebook</a>'\n",
              "            + ' to learn more about interactive tables.';\n",
              "          element.innerHTML = '';\n",
              "          dataTable['output_type'] = 'display_data';\n",
              "          await google.colab.output.renderOutput(dataTable, element);\n",
              "          const docLink = document.createElement('div');\n",
              "          docLink.innerHTML = docLinkHtml;\n",
              "          element.appendChild(docLink);\n",
              "        }\n",
              "      </script>\n",
              "    </div>\n",
              "  </div>\n",
              "  "
            ]
          },
          "metadata": {},
          "execution_count": 4
        }
      ]
    },
    {
      "cell_type": "code",
      "source": [
        "data.info()"
      ],
      "metadata": {
        "id": "u8i7Ut0Eupv9"
      },
      "execution_count": null,
      "outputs": []
    },
    {
      "cell_type": "code",
      "source": [
        "data.describe()"
      ],
      "metadata": {
        "id": "I8mwiuLJJV9_"
      },
      "execution_count": null,
      "outputs": []
    },
    {
      "cell_type": "code",
      "source": [
        "data.drop(['Unnamed: 0'], axis=1,inplace=True)"
      ],
      "metadata": {
        "id": "6qPwLZP1yPoR"
      },
      "execution_count": null,
      "outputs": []
    },
    {
      "cell_type": "markdown",
      "source": [
        "## New Section\n",
        "Menurut Hanley & Splash (1993), ada 3 faktor yg mempengaruhi nilai properti :\n",
        "\n",
        "\n",
        "*   Karakteristik fisik (luas tanah,luas bangunan,jumlah kamar mandi\n",
        "& kamar tidur)\n",
        "*   Karakteristik aksesibilitas (akses menuju pusat kota)\n",
        "*   Karakteristik lingkungan\n",
        "\n",
        "Sehingga perl ditambahkan kategori untuk hal diatas\n",
        "\n",
        "\n",
        "\n",
        "\n",
        "\n"
      ],
      "metadata": {
        "id": "qg0rWuEGCSux"
      }
    },
    {
      "cell_type": "code",
      "source": [
        "data.describe()"
      ],
      "metadata": {
        "id": "ZxgrToKgyX8L",
        "colab": {
          "base_uri": "https://localhost:8080/",
          "height": 300
        },
        "outputId": "1cce0aed-6d84-4e66-b00c-f6d1505683ac"
      },
      "execution_count": null,
      "outputs": [
        {
          "output_type": "execute_result",
          "data": {
            "text/plain": [
              "              price      bedrooms     bathrooms    build_size     land_size  \\\n",
              "count  1.197900e+04  11979.000000  11979.000000  11979.000000  11979.000000   \n",
              "mean   1.523641e+09      3.518741      2.429752    125.336183    181.073270   \n",
              "std    2.601915e+09      4.146452      3.030948    132.029161    307.695222   \n",
              "min    1.000000e+08      0.000000      0.000000      0.000000      0.000000   \n",
              "25%    4.730000e+08      2.000000      1.000000     47.000000     90.000000   \n",
              "50%    7.990000e+08      3.000000      2.000000     80.000000    113.000000   \n",
              "75%    1.650000e+09      4.000000      3.000000    150.000000    156.000000   \n",
              "max    8.600000e+10    300.000000    142.000000   2200.000000  11670.000000   \n",
              "\n",
              "       data_furnished  \n",
              "count      337.000000  \n",
              "mean       113.350148  \n",
              "std         31.674060  \n",
              "min          1.000000  \n",
              "25%        123.000000  \n",
              "50%        123.000000  \n",
              "75%        123.000000  \n",
              "max        124.000000  "
            ],
            "text/html": [
              "\n",
              "  <div id=\"df-46867514-61c8-4d19-b927-6ebfdc2c05fd\">\n",
              "    <div class=\"colab-df-container\">\n",
              "      <div>\n",
              "<style scoped>\n",
              "    .dataframe tbody tr th:only-of-type {\n",
              "        vertical-align: middle;\n",
              "    }\n",
              "\n",
              "    .dataframe tbody tr th {\n",
              "        vertical-align: top;\n",
              "    }\n",
              "\n",
              "    .dataframe thead th {\n",
              "        text-align: right;\n",
              "    }\n",
              "</style>\n",
              "<table border=\"1\" class=\"dataframe\">\n",
              "  <thead>\n",
              "    <tr style=\"text-align: right;\">\n",
              "      <th></th>\n",
              "      <th>price</th>\n",
              "      <th>bedrooms</th>\n",
              "      <th>bathrooms</th>\n",
              "      <th>build_size</th>\n",
              "      <th>land_size</th>\n",
              "      <th>data_furnished</th>\n",
              "    </tr>\n",
              "  </thead>\n",
              "  <tbody>\n",
              "    <tr>\n",
              "      <th>count</th>\n",
              "      <td>1.197900e+04</td>\n",
              "      <td>11979.000000</td>\n",
              "      <td>11979.000000</td>\n",
              "      <td>11979.000000</td>\n",
              "      <td>11979.000000</td>\n",
              "      <td>337.000000</td>\n",
              "    </tr>\n",
              "    <tr>\n",
              "      <th>mean</th>\n",
              "      <td>1.523641e+09</td>\n",
              "      <td>3.518741</td>\n",
              "      <td>2.429752</td>\n",
              "      <td>125.336183</td>\n",
              "      <td>181.073270</td>\n",
              "      <td>113.350148</td>\n",
              "    </tr>\n",
              "    <tr>\n",
              "      <th>std</th>\n",
              "      <td>2.601915e+09</td>\n",
              "      <td>4.146452</td>\n",
              "      <td>3.030948</td>\n",
              "      <td>132.029161</td>\n",
              "      <td>307.695222</td>\n",
              "      <td>31.674060</td>\n",
              "    </tr>\n",
              "    <tr>\n",
              "      <th>min</th>\n",
              "      <td>1.000000e+08</td>\n",
              "      <td>0.000000</td>\n",
              "      <td>0.000000</td>\n",
              "      <td>0.000000</td>\n",
              "      <td>0.000000</td>\n",
              "      <td>1.000000</td>\n",
              "    </tr>\n",
              "    <tr>\n",
              "      <th>25%</th>\n",
              "      <td>4.730000e+08</td>\n",
              "      <td>2.000000</td>\n",
              "      <td>1.000000</td>\n",
              "      <td>47.000000</td>\n",
              "      <td>90.000000</td>\n",
              "      <td>123.000000</td>\n",
              "    </tr>\n",
              "    <tr>\n",
              "      <th>50%</th>\n",
              "      <td>7.990000e+08</td>\n",
              "      <td>3.000000</td>\n",
              "      <td>2.000000</td>\n",
              "      <td>80.000000</td>\n",
              "      <td>113.000000</td>\n",
              "      <td>123.000000</td>\n",
              "    </tr>\n",
              "    <tr>\n",
              "      <th>75%</th>\n",
              "      <td>1.650000e+09</td>\n",
              "      <td>4.000000</td>\n",
              "      <td>3.000000</td>\n",
              "      <td>150.000000</td>\n",
              "      <td>156.000000</td>\n",
              "      <td>123.000000</td>\n",
              "    </tr>\n",
              "    <tr>\n",
              "      <th>max</th>\n",
              "      <td>8.600000e+10</td>\n",
              "      <td>300.000000</td>\n",
              "      <td>142.000000</td>\n",
              "      <td>2200.000000</td>\n",
              "      <td>11670.000000</td>\n",
              "      <td>124.000000</td>\n",
              "    </tr>\n",
              "  </tbody>\n",
              "</table>\n",
              "</div>\n",
              "      <button class=\"colab-df-convert\" onclick=\"convertToInteractive('df-46867514-61c8-4d19-b927-6ebfdc2c05fd')\"\n",
              "              title=\"Convert this dataframe to an interactive table.\"\n",
              "              style=\"display:none;\">\n",
              "        \n",
              "  <svg xmlns=\"http://www.w3.org/2000/svg\" height=\"24px\"viewBox=\"0 0 24 24\"\n",
              "       width=\"24px\">\n",
              "    <path d=\"M0 0h24v24H0V0z\" fill=\"none\"/>\n",
              "    <path d=\"M18.56 5.44l.94 2.06.94-2.06 2.06-.94-2.06-.94-.94-2.06-.94 2.06-2.06.94zm-11 1L8.5 8.5l.94-2.06 2.06-.94-2.06-.94L8.5 2.5l-.94 2.06-2.06.94zm10 10l.94 2.06.94-2.06 2.06-.94-2.06-.94-.94-2.06-.94 2.06-2.06.94z\"/><path d=\"M17.41 7.96l-1.37-1.37c-.4-.4-.92-.59-1.43-.59-.52 0-1.04.2-1.43.59L10.3 9.45l-7.72 7.72c-.78.78-.78 2.05 0 2.83L4 21.41c.39.39.9.59 1.41.59.51 0 1.02-.2 1.41-.59l7.78-7.78 2.81-2.81c.8-.78.8-2.07 0-2.86zM5.41 20L4 18.59l7.72-7.72 1.47 1.35L5.41 20z\"/>\n",
              "  </svg>\n",
              "      </button>\n",
              "      \n",
              "  <style>\n",
              "    .colab-df-container {\n",
              "      display:flex;\n",
              "      flex-wrap:wrap;\n",
              "      gap: 12px;\n",
              "    }\n",
              "\n",
              "    .colab-df-convert {\n",
              "      background-color: #E8F0FE;\n",
              "      border: none;\n",
              "      border-radius: 50%;\n",
              "      cursor: pointer;\n",
              "      display: none;\n",
              "      fill: #1967D2;\n",
              "      height: 32px;\n",
              "      padding: 0 0 0 0;\n",
              "      width: 32px;\n",
              "    }\n",
              "\n",
              "    .colab-df-convert:hover {\n",
              "      background-color: #E2EBFA;\n",
              "      box-shadow: 0px 1px 2px rgba(60, 64, 67, 0.3), 0px 1px 3px 1px rgba(60, 64, 67, 0.15);\n",
              "      fill: #174EA6;\n",
              "    }\n",
              "\n",
              "    [theme=dark] .colab-df-convert {\n",
              "      background-color: #3B4455;\n",
              "      fill: #D2E3FC;\n",
              "    }\n",
              "\n",
              "    [theme=dark] .colab-df-convert:hover {\n",
              "      background-color: #434B5C;\n",
              "      box-shadow: 0px 1px 3px 1px rgba(0, 0, 0, 0.15);\n",
              "      filter: drop-shadow(0px 1px 2px rgba(0, 0, 0, 0.3));\n",
              "      fill: #FFFFFF;\n",
              "    }\n",
              "  </style>\n",
              "\n",
              "      <script>\n",
              "        const buttonEl =\n",
              "          document.querySelector('#df-46867514-61c8-4d19-b927-6ebfdc2c05fd button.colab-df-convert');\n",
              "        buttonEl.style.display =\n",
              "          google.colab.kernel.accessAllowed ? 'block' : 'none';\n",
              "\n",
              "        async function convertToInteractive(key) {\n",
              "          const element = document.querySelector('#df-46867514-61c8-4d19-b927-6ebfdc2c05fd');\n",
              "          const dataTable =\n",
              "            await google.colab.kernel.invokeFunction('convertToInteractive',\n",
              "                                                     [key], {});\n",
              "          if (!dataTable) return;\n",
              "\n",
              "          const docLinkHtml = 'Like what you see? Visit the ' +\n",
              "            '<a target=\"_blank\" href=https://colab.research.google.com/notebooks/data_table.ipynb>data table notebook</a>'\n",
              "            + ' to learn more about interactive tables.';\n",
              "          element.innerHTML = '';\n",
              "          dataTable['output_type'] = 'display_data';\n",
              "          await google.colab.output.renderOutput(dataTable, element);\n",
              "          const docLink = document.createElement('div');\n",
              "          docLink.innerHTML = docLinkHtml;\n",
              "          element.appendChild(docLink);\n",
              "        }\n",
              "      </script>\n",
              "    </div>\n",
              "  </div>\n",
              "  "
            ]
          },
          "metadata": {},
          "execution_count": 45
        }
      ]
    },
    {
      "cell_type": "markdown",
      "metadata": {
        "id": "AbzXe6lmqkEK"
      },
      "source": [
        "### EDA (Explore Data Analysis)"
      ]
    },
    {
      "cell_type": "code",
      "execution_count": null,
      "metadata": {
        "id": "w9Pg_N0yqkEU"
      },
      "outputs": [],
      "source": [
        "import seaborn as sns\n",
        "import matplotlib.pyplot as plt\n",
        "import matplotlib"
      ]
    },
    {
      "cell_type": "code",
      "execution_count": null,
      "metadata": {
        "id": "7fnFthNfqkEW"
      },
      "outputs": [],
      "source": [
        "#sebelum dibagi 1.000.000\n",
        "sns.boxplot(data.price)"
      ]
    },
    {
      "cell_type": "code",
      "execution_count": null,
      "metadata": {
        "id": "Z7EUMSUfqkEY"
      },
      "outputs": [],
      "source": [
        "#data dibagi 1.000.000 untuk memudahkan penghitungan dan membaca nominal\n",
        "data.price=data.price/1000000"
      ]
    },
    {
      "cell_type": "code",
      "execution_count": null,
      "metadata": {
        "id": "t9WUzwLwqkEa",
        "colab": {
          "base_uri": "https://localhost:8080/",
          "height": 351
        },
        "outputId": "ad38b14d-bca8-4e7b-8fb2-f449dccf0066"
      },
      "outputs": [
        {
          "output_type": "stream",
          "name": "stderr",
          "text": [
            "/usr/local/lib/python3.7/dist-packages/seaborn/_decorators.py:43: FutureWarning: Pass the following variable as a keyword arg: x. From version 0.12, the only valid positional argument will be `data`, and passing other arguments without an explicit keyword will result in an error or misinterpretation.\n",
            "  FutureWarning\n"
          ]
        },
        {
          "output_type": "execute_result",
          "data": {
            "text/plain": [
              "<matplotlib.axes._subplots.AxesSubplot at 0x7f978968cd10>"
            ]
          },
          "metadata": {},
          "execution_count": 10
        },
        {
          "output_type": "display_data",
          "data": {
            "text/plain": [
              "<Figure size 432x288 with 1 Axes>"
            ],
            "image/png": "[encoded data removed]"
          },
          "metadata": {
            "needs_background": "light"
          }
        }
      ],
      "source": [
        "#setelah dibagi 1.000.000\n",
        "sns.boxplot(data.price)"
      ]
    },
    {
      "cell_type": "code",
      "execution_count": null,
      "metadata": {
        "scrolled": true,
        "id": "pmRhVMo6qkEc",
        "colab": {
          "base_uri": "https://localhost:8080/",
          "height": 265
        },
        "outputId": "5d072048-ea05-4e56-a5f1-9b5032b09981"
      },
      "outputs": [
        {
          "output_type": "display_data",
          "data": {
            "text/plain": [
              "<Figure size 432x288 with 1 Axes>"
            ],
            "image/png": "[encoded data removed]"
          },
          "metadata": {
            "needs_background": "light"
          }
        }
      ],
      "source": [
        "plt.hist(data.price)\n",
        "plt.show()"
      ]
    },
    {
      "cell_type": "markdown",
      "metadata": {
        "id": "-O9wscV1qkEg"
      },
      "source": [
        "### Cek distribusi normal"
      ]
    },
    {
      "cell_type": "code",
      "execution_count": null,
      "metadata": {
        "id": "mSj6CtlqqkEh",
        "colab": {
          "base_uri": "https://localhost:8080/",
          "height": 351
        },
        "outputId": "f7a3c68c-30ba-4d68-ccad-b4895a7e4bd6"
      },
      "outputs": [
        {
          "output_type": "stream",
          "name": "stderr",
          "text": [
            "/usr/local/lib/python3.7/dist-packages/seaborn/distributions.py:2619: FutureWarning: `distplot` is a deprecated function and will be removed in a future version. Please adapt your code to use either `displot` (a figure-level function with similar flexibility) or `histplot` (an axes-level function for histograms).\n",
            "  warnings.warn(msg, FutureWarning)\n"
          ]
        },
        {
          "output_type": "execute_result",
          "data": {
            "text/plain": [
              "<matplotlib.axes._subplots.AxesSubplot at 0x7fa4dcae8b10>"
            ]
          },
          "metadata": {},
          "execution_count": 16
        },
        {
          "output_type": "display_data",
          "data": {
            "text/plain": [
              "<Figure size 432x288 with 1 Axes>"
            ],
            "image/png": "[encoded data removed]"
          },
          "metadata": {
            "needs_background": "light"
          }
        }
      ],
      "source": [
        "sns.distplot(data.price)"
      ]
    },
    {
      "cell_type": "markdown",
      "metadata": {
        "id": "2S9V35caqkEo"
      },
      "source": [
        "### REMOVE OUTLIER"
      ]
    },
    {
      "cell_type": "code",
      "source": [
        "data.duplicated().sum()"
      ],
      "metadata": {
        "id": "z3mtsZjN0PTE",
        "colab": {
          "base_uri": "https://localhost:8080/"
        },
        "outputId": "7f7b7a9a-03a1-4e82-d2c2-b971d9f0cb02"
      },
      "execution_count": null,
      "outputs": [
        {
          "output_type": "execute_result",
          "data": {
            "text/plain": [
              "3233"
            ]
          },
          "metadata": {},
          "execution_count": 48
        }
      ]
    },
    {
      "cell_type": "code",
      "source": [
        "\n",
        "data.drop_duplicates(inplace = True)"
      ],
      "metadata": {
        "id": "A2DPhHxanakR"
      },
      "execution_count": null,
      "outputs": []
    },
    {
      "cell_type": "code",
      "execution_count": null,
      "metadata": {
        "id": "louHcWeGqkEm"
      },
      "outputs": [],
      "source": [
        "data.info()"
      ]
    },
    {
      "cell_type": "code",
      "execution_count": null,
      "metadata": {
        "id": "O2mJ15tiqkEo"
      },
      "outputs": [],
      "source": [
        "#cek dari deskripsi datanya\n",
        "data.describe()"
      ]
    },
    {
      "cell_type": "markdown",
      "source": [
        "Menghapus outlier pada feature bedrooms"
      ],
      "metadata": {
        "id": "rWoP5OdnyTFk"
      }
    },
    {
      "cell_type": "code",
      "execution_count": null,
      "metadata": {
        "id": "s_V_h5WjqkEq"
      },
      "outputs": [],
      "source": [
        "#Outlier pada variabel Bedrooms\n",
        "bedrooms_outlier = data[data.bedrooms > 4]\n",
        "bedrooms_outlier.head()"
      ]
    },
    {
      "cell_type": "code",
      "execution_count": null,
      "metadata": {
        "id": "ctmj0SL3qkEr"
      },
      "outputs": [],
      "source": [
        "data = data[~data.bedrooms.isin(bedrooms_outlier.bedrooms)]"
      ]
    },
    {
      "cell_type": "code",
      "execution_count": null,
      "metadata": {
        "id": "GQH-Cnb4qkEs"
      },
      "outputs": [],
      "source": [
        "#Hapus outlier < 1\n",
        "bedrooms_outlier1 = data[data.bedrooms < 1]\n",
        "#bedrooms_outlier1.head()"
      ]
    },
    {
      "cell_type": "code",
      "execution_count": null,
      "metadata": {
        "id": "uU6w-DBfqkEt"
      },
      "outputs": [],
      "source": [
        "data = data[~data.bedrooms.isin(bedrooms_outlier1.bedrooms)]"
      ]
    },
    {
      "cell_type": "code",
      "execution_count": null,
      "metadata": {
        "id": "KoR8fNsbqkE0"
      },
      "outputs": [],
      "source": [
        "sns.countplot(data.bedrooms)"
      ]
    },
    {
      "cell_type": "code",
      "execution_count": null,
      "metadata": {
        "id": "RlgwwNVZqkE1"
      },
      "outputs": [],
      "source": [
        "sns.boxplot(data.bedrooms)"
      ]
    },
    {
      "cell_type": "code",
      "execution_count": null,
      "metadata": {
        "id": "k4gaDwMLqkE3"
      },
      "outputs": [],
      "source": [
        "data.describe()"
      ]
    },
    {
      "cell_type": "markdown",
      "source": [
        "Menghapus outlier pada feature Bathrooms"
      ],
      "metadata": {
        "id": "ne_DymoQyaNI"
      }
    },
    {
      "cell_type": "code",
      "execution_count": null,
      "metadata": {
        "id": "tDEyApnqqkE3"
      },
      "outputs": [],
      "source": [
        "#Outlier pada variabel bathrooms\n",
        "bathrooms_outlier = data[data.bathrooms > 3]\n",
        "bathrooms_outlier.head()"
      ]
    },
    {
      "cell_type": "code",
      "execution_count": null,
      "metadata": {
        "id": "K64zUEX4qkE4"
      },
      "outputs": [],
      "source": [
        "data = data[~data.bathrooms.isin(bathrooms_outlier.bathrooms)]"
      ]
    },
    {
      "cell_type": "code",
      "source": [
        "out_bathroom = data[data.bathrooms < 1]\n",
        "out_bathroom.head()"
      ],
      "metadata": {
        "id": "y0g9PUdv1NV6"
      },
      "execution_count": null,
      "outputs": []
    },
    {
      "cell_type": "code",
      "source": [
        "data = data[~data.bathrooms.isin(out_bathroom.bathrooms)]"
      ],
      "metadata": {
        "id": "4PS4mUtf1bVh"
      },
      "execution_count": null,
      "outputs": []
    },
    {
      "cell_type": "code",
      "execution_count": null,
      "metadata": {
        "id": "qYNT0Y41qkE5"
      },
      "outputs": [],
      "source": [
        "sns.countplot(data.bathrooms)"
      ]
    },
    {
      "cell_type": "code",
      "execution_count": null,
      "metadata": {
        "id": "RsJU1pAdqkE6"
      },
      "outputs": [],
      "source": [
        "sns.boxplot(data.bathrooms)"
      ]
    },
    {
      "cell_type": "code",
      "source": [
        "#data.info()"
      ],
      "metadata": {
        "id": "GBJnUOUVyJdI"
      },
      "execution_count": null,
      "outputs": []
    },
    {
      "cell_type": "code",
      "execution_count": null,
      "metadata": {
        "scrolled": false,
        "id": "lC7yPLO2qkE6"
      },
      "outputs": [],
      "source": [
        "#Jika diperlukan untuk menghapus outlier pada land_size\n",
        "'''land_outlier = data[data.land_size > 180]\n",
        "land_outlier.head()'''"
      ]
    },
    {
      "cell_type": "code",
      "execution_count": null,
      "metadata": {
        "id": "_hEGATrDqkE7"
      },
      "outputs": [],
      "source": [
        "#data = data[~data.land_size.isin(land_outlier.land_size)]"
      ]
    },
    {
      "cell_type": "code",
      "execution_count": null,
      "metadata": {
        "id": "gaHAQ9GvqkE8"
      },
      "outputs": [],
      "source": [
        "#out_land = data[data.land_size < 50]\n",
        "#out_land.head()"
      ]
    },
    {
      "cell_type": "code",
      "execution_count": null,
      "metadata": {
        "id": "p_ak3ijVqkE9"
      },
      "outputs": [],
      "source": [
        "#data = data[~data.land_size.isin(out_land.land_size)] "
      ]
    },
    {
      "cell_type": "code",
      "execution_count": null,
      "metadata": {
        "id": "VBEbrCl3qkE-"
      },
      "outputs": [],
      "source": [
        "#sns.boxplot(data.land_size)"
      ]
    },
    {
      "cell_type": "code",
      "execution_count": null,
      "metadata": {
        "id": "CHvHzNuPqkE_"
      },
      "outputs": [],
      "source": [
        "#plt.figure(figsize=(6,3))\n",
        "#sns.scatterplot(data.land_size,data.price)"
      ]
    },
    {
      "cell_type": "markdown",
      "source": [
        "Menghapus outlier pada feature build_size"
      ],
      "metadata": {
        "id": "Hdrjt3WVy00o"
      }
    },
    {
      "cell_type": "code",
      "execution_count": null,
      "metadata": {
        "id": "61RjzcGeqkFA"
      },
      "outputs": [],
      "source": [
        "out_build = data[data.build_size < 21]\n",
        "#out_build.head()"
      ]
    },
    {
      "cell_type": "code",
      "execution_count": null,
      "metadata": {
        "id": "JrsNccFQqkFB"
      },
      "outputs": [],
      "source": [
        "data = data[~data.build_size.isin(out_build.build_size)] "
      ]
    },
    {
      "cell_type": "code",
      "execution_count": null,
      "metadata": {
        "id": "Qr-KRJhjqkFC"
      },
      "outputs": [],
      "source": [
        "sns.boxplot(data.build_size)"
      ]
    },
    {
      "cell_type": "code",
      "execution_count": null,
      "metadata": {
        "id": "SyGYWmPPqkFD"
      },
      "outputs": [],
      "source": [
        "plt.figure(figsize=(6,3))\n",
        "sns.scatterplot(data.build_size,data.price)"
      ]
    },
    {
      "cell_type": "code",
      "source": [
        "data.describe()"
      ],
      "metadata": {
        "id": "dErYCYu0Kk-J",
        "colab": {
          "base_uri": "https://localhost:8080/",
          "height": 300
        },
        "outputId": "ef28dfa0-60cc-4a63-f66d-7fdb9f2aec80"
      },
      "execution_count": null,
      "outputs": [
        {
          "output_type": "execute_result",
          "data": {
            "text/plain": [
              "              price     bedrooms    bathrooms   build_size    land_size  \\\n",
              "count   6792.000000  6792.000000  6792.000000  6792.000000  6792.000000   \n",
              "mean     939.523278     2.673145     1.677856    85.307580   129.699308   \n",
              "std     1002.970070     0.692682     0.721501    62.570189   123.437839   \n",
              "min      100.000000     1.000000     1.000000     0.000000    50.000000   \n",
              "25%      425.000000     2.000000     1.000000    45.000000    89.000000   \n",
              "50%      655.000000     3.000000     2.000000    70.000000   105.000000   \n",
              "75%     1139.457000     3.000000     2.000000   100.000000   130.000000   \n",
              "max    26000.000000     4.000000     3.000000  1343.000000  3000.000000   \n",
              "\n",
              "       data_furnished  \n",
              "count      235.000000  \n",
              "mean       115.417021  \n",
              "std         28.284357  \n",
              "min         11.000000  \n",
              "25%        123.000000  \n",
              "50%        123.000000  \n",
              "75%        123.000000  \n",
              "max        124.000000  "
            ],
            "text/html": [
              "\n",
              "  <div id=\"df-dd9ab9de-fa67-4907-a034-47c411f99b2e\">\n",
              "    <div class=\"colab-df-container\">\n",
              "      <div>\n",
              "<style scoped>\n",
              "    .dataframe tbody tr th:only-of-type {\n",
              "        vertical-align: middle;\n",
              "    }\n",
              "\n",
              "    .dataframe tbody tr th {\n",
              "        vertical-align: top;\n",
              "    }\n",
              "\n",
              "    .dataframe thead th {\n",
              "        text-align: right;\n",
              "    }\n",
              "</style>\n",
              "<table border=\"1\" class=\"dataframe\">\n",
              "  <thead>\n",
              "    <tr style=\"text-align: right;\">\n",
              "      <th></th>\n",
              "      <th>price</th>\n",
              "      <th>bedrooms</th>\n",
              "      <th>bathrooms</th>\n",
              "      <th>build_size</th>\n",
              "      <th>land_size</th>\n",
              "      <th>data_furnished</th>\n",
              "    </tr>\n",
              "  </thead>\n",
              "  <tbody>\n",
              "    <tr>\n",
              "      <th>count</th>\n",
              "      <td>6792.000000</td>\n",
              "      <td>6792.000000</td>\n",
              "      <td>6792.000000</td>\n",
              "      <td>6792.000000</td>\n",
              "      <td>6792.000000</td>\n",
              "      <td>235.000000</td>\n",
              "    </tr>\n",
              "    <tr>\n",
              "      <th>mean</th>\n",
              "      <td>939.523278</td>\n",
              "      <td>2.673145</td>\n",
              "      <td>1.677856</td>\n",
              "      <td>85.307580</td>\n",
              "      <td>129.699308</td>\n",
              "      <td>115.417021</td>\n",
              "    </tr>\n",
              "    <tr>\n",
              "      <th>std</th>\n",
              "      <td>1002.970070</td>\n",
              "      <td>0.692682</td>\n",
              "      <td>0.721501</td>\n",
              "      <td>62.570189</td>\n",
              "      <td>123.437839</td>\n",
              "      <td>28.284357</td>\n",
              "    </tr>\n",
              "    <tr>\n",
              "      <th>min</th>\n",
              "      <td>100.000000</td>\n",
              "      <td>1.000000</td>\n",
              "      <td>1.000000</td>\n",
              "      <td>0.000000</td>\n",
              "      <td>50.000000</td>\n",
              "      <td>11.000000</td>\n",
              "    </tr>\n",
              "    <tr>\n",
              "      <th>25%</th>\n",
              "      <td>425.000000</td>\n",
              "      <td>2.000000</td>\n",
              "      <td>1.000000</td>\n",
              "      <td>45.000000</td>\n",
              "      <td>89.000000</td>\n",
              "      <td>123.000000</td>\n",
              "    </tr>\n",
              "    <tr>\n",
              "      <th>50%</th>\n",
              "      <td>655.000000</td>\n",
              "      <td>3.000000</td>\n",
              "      <td>2.000000</td>\n",
              "      <td>70.000000</td>\n",
              "      <td>105.000000</td>\n",
              "      <td>123.000000</td>\n",
              "    </tr>\n",
              "    <tr>\n",
              "      <th>75%</th>\n",
              "      <td>1139.457000</td>\n",
              "      <td>3.000000</td>\n",
              "      <td>2.000000</td>\n",
              "      <td>100.000000</td>\n",
              "      <td>130.000000</td>\n",
              "      <td>123.000000</td>\n",
              "    </tr>\n",
              "    <tr>\n",
              "      <th>max</th>\n",
              "      <td>26000.000000</td>\n",
              "      <td>4.000000</td>\n",
              "      <td>3.000000</td>\n",
              "      <td>1343.000000</td>\n",
              "      <td>3000.000000</td>\n",
              "      <td>124.000000</td>\n",
              "    </tr>\n",
              "  </tbody>\n",
              "</table>\n",
              "</div>\n",
              "      <button class=\"colab-df-convert\" onclick=\"convertToInteractive('df-dd9ab9de-fa67-4907-a034-47c411f99b2e')\"\n",
              "              title=\"Convert this dataframe to an interactive table.\"\n",
              "              style=\"display:none;\">\n",
              "        \n",
              "  <svg xmlns=\"http://www.w3.org/2000/svg\" height=\"24px\"viewBox=\"0 0 24 24\"\n",
              "       width=\"24px\">\n",
              "    <path d=\"M0 0h24v24H0V0z\" fill=\"none\"/>\n",
              "    <path d=\"M18.56 5.44l.94 2.06.94-2.06 2.06-.94-2.06-.94-.94-2.06-.94 2.06-2.06.94zm-11 1L8.5 8.5l.94-2.06 2.06-.94-2.06-.94L8.5 2.5l-.94 2.06-2.06.94zm10 10l.94 2.06.94-2.06 2.06-.94-2.06-.94-.94-2.06-.94 2.06-2.06.94z\"/><path d=\"M17.41 7.96l-1.37-1.37c-.4-.4-.92-.59-1.43-.59-.52 0-1.04.2-1.43.59L10.3 9.45l-7.72 7.72c-.78.78-.78 2.05 0 2.83L4 21.41c.39.39.9.59 1.41.59.51 0 1.02-.2 1.41-.59l7.78-7.78 2.81-2.81c.8-.78.8-2.07 0-2.86zM5.41 20L4 18.59l7.72-7.72 1.47 1.35L5.41 20z\"/>\n",
              "  </svg>\n",
              "      </button>\n",
              "      \n",
              "  <style>\n",
              "    .colab-df-container {\n",
              "      display:flex;\n",
              "      flex-wrap:wrap;\n",
              "      gap: 12px;\n",
              "    }\n",
              "\n",
              "    .colab-df-convert {\n",
              "      background-color: #E8F0FE;\n",
              "      border: none;\n",
              "      border-radius: 50%;\n",
              "      cursor: pointer;\n",
              "      display: none;\n",
              "      fill: #1967D2;\n",
              "      height: 32px;\n",
              "      padding: 0 0 0 0;\n",
              "      width: 32px;\n",
              "    }\n",
              "\n",
              "    .colab-df-convert:hover {\n",
              "      background-color: #E2EBFA;\n",
              "      box-shadow: 0px 1px 2px rgba(60, 64, 67, 0.3), 0px 1px 3px 1px rgba(60, 64, 67, 0.15);\n",
              "      fill: #174EA6;\n",
              "    }\n",
              "\n",
              "    [theme=dark] .colab-df-convert {\n",
              "      background-color: #3B4455;\n",
              "      fill: #D2E3FC;\n",
              "    }\n",
              "\n",
              "    [theme=dark] .colab-df-convert:hover {\n",
              "      background-color: #434B5C;\n",
              "      box-shadow: 0px 1px 3px 1px rgba(0, 0, 0, 0.15);\n",
              "      filter: drop-shadow(0px 1px 2px rgba(0, 0, 0, 0.3));\n",
              "      fill: #FFFFFF;\n",
              "    }\n",
              "  </style>\n",
              "\n",
              "      <script>\n",
              "        const buttonEl =\n",
              "          document.querySelector('#df-dd9ab9de-fa67-4907-a034-47c411f99b2e button.colab-df-convert');\n",
              "        buttonEl.style.display =\n",
              "          google.colab.kernel.accessAllowed ? 'block' : 'none';\n",
              "\n",
              "        async function convertToInteractive(key) {\n",
              "          const element = document.querySelector('#df-dd9ab9de-fa67-4907-a034-47c411f99b2e');\n",
              "          const dataTable =\n",
              "            await google.colab.kernel.invokeFunction('convertToInteractive',\n",
              "                                                     [key], {});\n",
              "          if (!dataTable) return;\n",
              "\n",
              "          const docLinkHtml = 'Like what you see? Visit the ' +\n",
              "            '<a target=\"_blank\" href=https://colab.research.google.com/notebooks/data_table.ipynb>data table notebook</a>'\n",
              "            + ' to learn more about interactive tables.';\n",
              "          element.innerHTML = '';\n",
              "          dataTable['output_type'] = 'display_data';\n",
              "          await google.colab.output.renderOutput(dataTable, element);\n",
              "          const docLink = document.createElement('div');\n",
              "          docLink.innerHTML = docLinkHtml;\n",
              "          element.appendChild(docLink);\n",
              "        }\n",
              "      </script>\n",
              "    </div>\n",
              "  </div>\n",
              "  "
            ]
          },
          "metadata": {},
          "execution_count": 64
        }
      ]
    },
    {
      "cell_type": "markdown",
      "source": [
        "####skip"
      ],
      "metadata": {
        "id": "BjCBxXmPACCP"
      }
    },
    {
      "cell_type": "code",
      "source": [
        "#data.build_size.value_counts()"
      ],
      "metadata": {
        "id": "IEFOo73g_XAp"
      },
      "execution_count": null,
      "outputs": []
    },
    {
      "cell_type": "code",
      "source": [
        "#data.build_size = data.build_size.astype('str')"
      ],
      "metadata": {
        "id": "xxTU8htcGkf1"
      },
      "execution_count": null,
      "outputs": []
    },
    {
      "cell_type": "code",
      "source": [
        "#data.head()"
      ],
      "metadata": {
        "id": "YlKi3Ux8HNHD"
      },
      "execution_count": null,
      "outputs": []
    },
    {
      "cell_type": "code",
      "source": [
        "#size = data.build_size.value_counts()\n",
        "#size.head(25)"
      ],
      "metadata": {
        "id": "hQNImGz0OXwy"
      },
      "execution_count": null,
      "outputs": []
    },
    {
      "cell_type": "code",
      "source": [
        "'''data['tipe_21'] = data.build_size.apply(lambda x:1 if '21' in x else 0)\n",
        "data['tipe_24'] = data.build_size.apply(lambda x:1 if '24' in x else 0)\n",
        "data['tipe_36'] = data.build_size.apply(lambda x:1 if '36' in x else 0)\n",
        "data['tipe_45'] = data.build_size.apply(lambda x:1 if '45' in x else 0)\n",
        "data['tipe_54'] = data.build_size.apply(lambda x:1 if '54' in x else 0)\n",
        "data['tipe_60'] = data.build_size.apply(lambda x:1 if '60' in x else 0)\n",
        "data['tipe_70'] = data.build_size.apply(lambda x:1 if '70' in x else 0)\n",
        "data['tipe_90'] = data.build_size.apply(lambda x:1 if '90' in x else 0)\n",
        "data.sample(5)'''"
      ],
      "metadata": {
        "id": "zsQVcWH1EGYS"
      },
      "execution_count": null,
      "outputs": []
    },
    {
      "cell_type": "code",
      "source": [
        "'''data.build_size = data.build_size.astype('float')\n",
        "data.head()'''"
      ],
      "metadata": {
        "id": "LEzpxTvLLBqz"
      },
      "execution_count": null,
      "outputs": []
    },
    {
      "cell_type": "markdown",
      "source": [
        "####Lanjut"
      ],
      "metadata": {
        "id": "8LR5mXp1AGrh"
      }
    },
    {
      "cell_type": "markdown",
      "source": [
        "###Data Manupulation (Preprocessing)"
      ],
      "metadata": {
        "id": "nvpzGwdc2rte"
      }
    },
    {
      "cell_type": "markdown",
      "source": [
        "#### Menurut Mappi\n",
        "![Klasifikasi rumah tinggal berdasarkan jenisnya.PNG](data:image/png;base64,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)"
      ],
      "metadata": {
        "id": "yeczdqYw_r_n"
      }
    },
    {
      "cell_type": "markdown",
      "source": [
        "Pembuatan variabel baru untuk spesifikasi umum bangunan di ambil dari tabel feature category"
      ],
      "metadata": {
        "id": "g4-3ki9hzE99"
      }
    },
    {
      "cell_type": "code",
      "source": [
        "# Spesifikasi umum bangunan\n",
        "data.category= pd.cut(data.build_size,\n",
        "                      bins = [0,36,94,505,2200],\n",
        "                      labels=['Rumah Sangat Sederhana',\n",
        "                              'Rumah Sederhana',\n",
        "                              'Rumah Menengah',\n",
        "                              'Rumah Mewah'])\n"
      ],
      "metadata": {
        "id": "uYfkaK5afNXA"
      },
      "execution_count": null,
      "outputs": []
    },
    {
      "cell_type": "markdown",
      "source": [
        "Pembuatan variabel baru untuk type rumah di ambil dari tabel feature data_furnished"
      ],
      "metadata": {
        "id": "nP5kqP0nzPQL"
      }
    },
    {
      "cell_type": "code",
      "source": [
        "#Type rumah\n",
        "#data.data_furnished = pd.cut(data.build_size, bins=[0,25,36,45,54,60,70,120,11670],\n",
        "#                             labels=['tipe 21','tipe 36','tipe 45','tipe 54',\n",
        "#                                     'tipe 60','tipe 70','tipe 120','tipe > 120'])\n",
        "data.data_furnished = pd.cut(data.build_size, bins=[0,25,36,45,54,60,70,120,3000],\n",
        "                             labels=['tipe 21','tipe 36','tipe 45','tipe 54',\n",
        "                                     'tipe 60','tipe 70','tipe 120','tipe > 120'])\n"
      ],
      "metadata": {
        "id": "7df1xrzhfbXh"
      },
      "execution_count": null,
      "outputs": []
    },
    {
      "cell_type": "markdown",
      "source": [
        "Pembuatan variabel baru untuk jenis rumah di ambil dari tabel feature sub_category"
      ],
      "metadata": {
        "id": "f4BdjZ1ezUUd"
      }
    },
    {
      "cell_type": "code",
      "source": [
        "'''Jenis rumah\n",
        "Menurut SKB Menteri Dalam Negeri, Menteri PU, Menteri Perumahan Rakyat tahun 1992'''\n",
        "data.sub_category = pd.cut(data.build_size,\n",
        "                           bins=[0,200,650,3000],\n",
        "                           labels=['Sederhana',\n",
        "                                   'Menengah',\n",
        "                                   'Mewah'])\n"
      ],
      "metadata": {
        "id": "BzUb-Q1OsL1x"
      },
      "execution_count": null,
      "outputs": []
    },
    {
      "cell_type": "code",
      "source": [
        "data.describe()"
      ],
      "metadata": {
        "colab": {
          "base_uri": "https://localhost:8080/",
          "height": 300
        },
        "id": "fJMOT6IVJ8By",
        "outputId": "5b499c45-3f4f-4944-c6b3-897915390201"
      },
      "execution_count": null,
      "outputs": [
        {
          "output_type": "execute_result",
          "data": {
            "text/plain": [
              "              price     bedrooms    bathrooms   build_size    land_size\n",
              "count   6792.000000  6792.000000  6792.000000  6792.000000  6792.000000\n",
              "mean     939.523278     2.673145     1.677856    85.307580   129.699308\n",
              "std     1002.970070     0.692682     0.721501    62.570189   123.437839\n",
              "min      100.000000     1.000000     1.000000     0.000000    50.000000\n",
              "25%      425.000000     2.000000     1.000000    45.000000    89.000000\n",
              "50%      655.000000     3.000000     2.000000    70.000000   105.000000\n",
              "75%     1139.457000     3.000000     2.000000   100.000000   130.000000\n",
              "max    26000.000000     4.000000     3.000000  1343.000000  3000.000000"
            ],
            "text/html": [
              "\n",
              "  <div id=\"df-74bd9f43-1d97-49cd-9590-67bc0b1ee531\">\n",
              "    <div class=\"colab-df-container\">\n",
              "      <div>\n",
              "<style scoped>\n",
              "    .dataframe tbody tr th:only-of-type {\n",
              "        vertical-align: middle;\n",
              "    }\n",
              "\n",
              "    .dataframe tbody tr th {\n",
              "        vertical-align: top;\n",
              "    }\n",
              "\n",
              "    .dataframe thead th {\n",
              "        text-align: right;\n",
              "    }\n",
              "</style>\n",
              "<table border=\"1\" class=\"dataframe\">\n",
              "  <thead>\n",
              "    <tr style=\"text-align: right;\">\n",
              "      <th></th>\n",
              "      <th>price</th>\n",
              "      <th>bedrooms</th>\n",
              "      <th>bathrooms</th>\n",
              "      <th>build_size</th>\n",
              "      <th>land_size</th>\n",
              "    </tr>\n",
              "  </thead>\n",
              "  <tbody>\n",
              "    <tr>\n",
              "      <th>count</th>\n",
              "      <td>6792.000000</td>\n",
              "      <td>6792.000000</td>\n",
              "      <td>6792.000000</td>\n",
              "      <td>6792.000000</td>\n",
              "      <td>6792.000000</td>\n",
              "    </tr>\n",
              "    <tr>\n",
              "      <th>mean</th>\n",
              "      <td>939.523278</td>\n",
              "      <td>2.673145</td>\n",
              "      <td>1.677856</td>\n",
              "      <td>85.307580</td>\n",
              "      <td>129.699308</td>\n",
              "    </tr>\n",
              "    <tr>\n",
              "      <th>std</th>\n",
              "      <td>1002.970070</td>\n",
              "      <td>0.692682</td>\n",
              "      <td>0.721501</td>\n",
              "      <td>62.570189</td>\n",
              "      <td>123.437839</td>\n",
              "    </tr>\n",
              "    <tr>\n",
              "      <th>min</th>\n",
              "      <td>100.000000</td>\n",
              "      <td>1.000000</td>\n",
              "      <td>1.000000</td>\n",
              "      <td>0.000000</td>\n",
              "      <td>50.000000</td>\n",
              "    </tr>\n",
              "    <tr>\n",
              "      <th>25%</th>\n",
              "      <td>425.000000</td>\n",
              "      <td>2.000000</td>\n",
              "      <td>1.000000</td>\n",
              "      <td>45.000000</td>\n",
              "      <td>89.000000</td>\n",
              "    </tr>\n",
              "    <tr>\n",
              "      <th>50%</th>\n",
              "      <td>655.000000</td>\n",
              "      <td>3.000000</td>\n",
              "      <td>2.000000</td>\n",
              "      <td>70.000000</td>\n",
              "      <td>105.000000</td>\n",
              "    </tr>\n",
              "    <tr>\n",
              "      <th>75%</th>\n",
              "      <td>1139.457000</td>\n",
              "      <td>3.000000</td>\n",
              "      <td>2.000000</td>\n",
              "      <td>100.000000</td>\n",
              "      <td>130.000000</td>\n",
              "    </tr>\n",
              "    <tr>\n",
              "      <th>max</th>\n",
              "      <td>26000.000000</td>\n",
              "      <td>4.000000</td>\n",
              "      <td>3.000000</td>\n",
              "      <td>1343.000000</td>\n",
              "      <td>3000.000000</td>\n",
              "    </tr>\n",
              "  </tbody>\n",
              "</table>\n",
              "</div>\n",
              "      <button class=\"colab-df-convert\" onclick=\"convertToInteractive('df-74bd9f43-1d97-49cd-9590-67bc0b1ee531')\"\n",
              "              title=\"Convert this dataframe to an interactive table.\"\n",
              "              style=\"display:none;\">\n",
              "        \n",
              "  <svg xmlns=\"http://www.w3.org/2000/svg\" height=\"24px\"viewBox=\"0 0 24 24\"\n",
              "       width=\"24px\">\n",
              "    <path d=\"M0 0h24v24H0V0z\" fill=\"none\"/>\n",
              "    <path d=\"M18.56 5.44l.94 2.06.94-2.06 2.06-.94-2.06-.94-.94-2.06-.94 2.06-2.06.94zm-11 1L8.5 8.5l.94-2.06 2.06-.94-2.06-.94L8.5 2.5l-.94 2.06-2.06.94zm10 10l.94 2.06.94-2.06 2.06-.94-2.06-.94-.94-2.06-.94 2.06-2.06.94z\"/><path d=\"M17.41 7.96l-1.37-1.37c-.4-.4-.92-.59-1.43-.59-.52 0-1.04.2-1.43.59L10.3 9.45l-7.72 7.72c-.78.78-.78 2.05 0 2.83L4 21.41c.39.39.9.59 1.41.59.51 0 1.02-.2 1.41-.59l7.78-7.78 2.81-2.81c.8-.78.8-2.07 0-2.86zM5.41 20L4 18.59l7.72-7.72 1.47 1.35L5.41 20z\"/>\n",
              "  </svg>\n",
              "      </button>\n",
              "      \n",
              "  <style>\n",
              "    .colab-df-container {\n",
              "      display:flex;\n",
              "      flex-wrap:wrap;\n",
              "      gap: 12px;\n",
              "    }\n",
              "\n",
              "    .colab-df-convert {\n",
              "      background-color: #E8F0FE;\n",
              "      border: none;\n",
              "      border-radius: 50%;\n",
              "      cursor: pointer;\n",
              "      display: none;\n",
              "      fill: #1967D2;\n",
              "      height: 32px;\n",
              "      padding: 0 0 0 0;\n",
              "      width: 32px;\n",
              "    }\n",
              "\n",
              "    .colab-df-convert:hover {\n",
              "      background-color: #E2EBFA;\n",
              "      box-shadow: 0px 1px 2px rgba(60, 64, 67, 0.3), 0px 1px 3px 1px rgba(60, 64, 67, 0.15);\n",
              "      fill: #174EA6;\n",
              "    }\n",
              "\n",
              "    [theme=dark] .colab-df-convert {\n",
              "      background-color: #3B4455;\n",
              "      fill: #D2E3FC;\n",
              "    }\n",
              "\n",
              "    [theme=dark] .colab-df-convert:hover {\n",
              "      background-color: #434B5C;\n",
              "      box-shadow: 0px 1px 3px 1px rgba(0, 0, 0, 0.15);\n",
              "      filter: drop-shadow(0px 1px 2px rgba(0, 0, 0, 0.3));\n",
              "      fill: #FFFFFF;\n",
              "    }\n",
              "  </style>\n",
              "\n",
              "      <script>\n",
              "        const buttonEl =\n",
              "          document.querySelector('#df-74bd9f43-1d97-49cd-9590-67bc0b1ee531 button.colab-df-convert');\n",
              "        buttonEl.style.display =\n",
              "          google.colab.kernel.accessAllowed ? 'block' : 'none';\n",
              "\n",
              "        async function convertToInteractive(key) {\n",
              "          const element = document.querySelector('#df-74bd9f43-1d97-49cd-9590-67bc0b1ee531');\n",
              "          const dataTable =\n",
              "            await google.colab.kernel.invokeFunction('convertToInteractive',\n",
              "                                                     [key], {});\n",
              "          if (!dataTable) return;\n",
              "\n",
              "          const docLinkHtml = 'Like what you see? Visit the ' +\n",
              "            '<a target=\"_blank\" href=https://colab.research.google.com/notebooks/data_table.ipynb>data table notebook</a>'\n",
              "            + ' to learn more about interactive tables.';\n",
              "          element.innerHTML = '';\n",
              "          dataTable['output_type'] = 'display_data';\n",
              "          await google.colab.output.renderOutput(dataTable, element);\n",
              "          const docLink = document.createElement('div');\n",
              "          docLink.innerHTML = docLinkHtml;\n",
              "          element.appendChild(docLink);\n",
              "        }\n",
              "      </script>\n",
              "    </div>\n",
              "  </div>\n",
              "  "
            ]
          },
          "metadata": {},
          "execution_count": 68
        }
      ]
    },
    {
      "cell_type": "markdown",
      "source": [
        "Pembuatan variabel baru untuk jarak ke pusat kota di ambil dari tabel feature deskripsi"
      ],
      "metadata": {
        "id": "eNceVWX_zd1D"
      }
    },
    {
      "cell_type": "code",
      "source": [
        "'''\n",
        "Menurut Siregar (2016), selain karakteristik fisik, jarak ke pusat kota juga\n",
        "mempengaruhi harga\n",
        "'''\n",
        "# Jarak ke pusat kota\n",
        "#data.deskripsi = pd.cut(data.price,\n",
        "#                        bins=[0,200,400,600,900,2000,5000,10000,86000],\n",
        "#                        labels=['sangat jauh',\n",
        "#                                'lumayan jauh',\n",
        "#                                'jauh',\n",
        "#                                'sedang',\n",
        "#                                'agak dekat <= 5km',\n",
        "#                                'lumayan dekat <= 3km',\n",
        "#                                'sangat dekat <= 2km',\n",
        "#                                'pusat kota'])\n",
        "\n",
        "data.deskripsi = pd.cut(data.price,\n",
        "                        bins=[0,200,400,600,900,1000,2000,8000,10000],\n",
        "                        labels=['sangat jauh',\n",
        "                                'lumayan jauh',\n",
        "                                'jauh',\n",
        "                                'sedang',\n",
        "                                'agak dekat <= 5km',\n",
        "                                'lumayan dekat <= 3km',\n",
        "                                'sangat dekat <= 2km',\n",
        "                                'pusat kota'])\n",
        "data.head()"
      ],
      "metadata": {
        "id": "9UFGKJXUvAxo"
      },
      "execution_count": null,
      "outputs": []
    },
    {
      "cell_type": "markdown",
      "source": [
        "Rename tabel feature yang sudah diberikan kategori"
      ],
      "metadata": {
        "id": "yg_ZKsdzzofl"
      }
    },
    {
      "cell_type": "code",
      "source": [
        "data.rename({'category':'spek_rumah','data_furnished':'type_rumah',\n",
        "                         'sub_category':'jenis_rumah','geo_loc':'type_bedrooms',\n",
        "                         'deskripsi':'pusat_kota'},axis =1, inplace=True)"
      ],
      "metadata": {
        "id": "ho_vCZ2wqCOO"
      },
      "execution_count": null,
      "outputs": []
    },
    {
      "cell_type": "code",
      "source": [
        "data.drop(['id','nama','type_bedrooms'],axis=1,inplace=True)\n"
      ],
      "metadata": {
        "id": "CvPLvTqavEmY"
      },
      "execution_count": null,
      "outputs": []
    },
    {
      "cell_type": "code",
      "source": [
        "\n",
        "\n",
        "'''\n",
        "pembobotan untuk lebih mendetail lebih berat karena akan butuh waktu observasi\n",
        "lebih lama pada timeline penelitian. \n",
        "untuk indeks gini saja butuh 6 tahun. \n",
        "'''"
      ],
      "metadata": {
        "id": "-o3WHuvrkaOQ"
      },
      "execution_count": null,
      "outputs": []
    },
    {
      "cell_type": "markdown",
      "source": [
        "###Cek data null & duplicate"
      ],
      "metadata": {
        "id": "xYVvBANA2jU_"
      }
    },
    {
      "cell_type": "code",
      "source": [
        "data.duplicated().sum()"
      ],
      "metadata": {
        "id": "4GQGwKi3Lvm0",
        "colab": {
          "base_uri": "https://localhost:8080/"
        },
        "outputId": "3faee5cf-34ef-4585-d026-939e854a5036"
      },
      "execution_count": null,
      "outputs": [
        {
          "output_type": "execute_result",
          "data": {
            "text/plain": [
              "1917"
            ]
          },
          "metadata": {},
          "execution_count": 37
        }
      ]
    },
    {
      "cell_type": "code",
      "source": [
        "data.drop_duplicates(inplace = True)"
      ],
      "metadata": {
        "id": "v-gdTI8OLr_D"
      },
      "execution_count": null,
      "outputs": []
    },
    {
      "cell_type": "code",
      "execution_count": null,
      "metadata": {
        "id": "4PV7dYP1qkEk",
        "colab": {
          "base_uri": "https://localhost:8080/"
        },
        "outputId": "447b7c44-b2d8-4f71-8fd7-75d6c0f4e431"
      },
      "outputs": [
        {
          "output_type": "execute_result",
          "data": {
            "text/plain": [
              "price             0\n",
              "pusat_kota     4807\n",
              "alamat            0\n",
              "spek_rumah        0\n",
              "jenis_rumah       3\n",
              "bedrooms          0\n",
              "bathrooms         0\n",
              "build_size        0\n",
              "land_size         0\n",
              "type_rumah        3\n",
              "dtype: int64"
            ]
          },
          "metadata": {},
          "execution_count": 39
        }
      ],
      "source": [
        "#cek apakah ada data yang null\n",
        "data.isna().sum()"
      ]
    },
    {
      "cell_type": "code",
      "source": [
        "data.dropna()"
      ],
      "metadata": {
        "id": "tqgQu6n33BmG"
      },
      "execution_count": null,
      "outputs": []
    },
    {
      "cell_type": "markdown",
      "source": [
        "###Data Cleaning"
      ],
      "metadata": {
        "id": "7uhoYEU7IpmV"
      }
    },
    {
      "cell_type": "code",
      "source": [
        "data.head()"
      ],
      "metadata": {
        "id": "G4aqWE5e5B14"
      },
      "execution_count": null,
      "outputs": []
    },
    {
      "cell_type": "code",
      "execution_count": null,
      "metadata": {
        "id": "7ShXqh-sqkFE"
      },
      "outputs": [],
      "source": [
        "data.describe()"
      ]
    },
    {
      "cell_type": "code",
      "execution_count": null,
      "metadata": {
        "scrolled": true,
        "id": "y2QvhKOAqkFF",
        "colab": {
          "base_uri": "https://localhost:8080/",
          "height": 287
        },
        "outputId": "1db447b6-baad-4f70-9354-88840c6f2066"
      },
      "outputs": [
        {
          "output_type": "execute_result",
          "data": {
            "text/plain": [
              "<matplotlib.axes._subplots.AxesSubplot at 0x7f65d5923110>"
            ]
          },
          "metadata": {},
          "execution_count": 59
        },
        {
          "output_type": "display_data",
          "data": {
            "text/plain": [
              "<Figure size 432x288 with 2 Axes>"
            ],
            "image/png": "[encoded data removed]"
          },
          "metadata": {
            "needs_background": "light"
          }
        }
      ],
      "source": [
        "sns.heatmap(data.corr(), annot=True)"
      ]
    },
    {
      "cell_type": "code",
      "execution_count": null,
      "metadata": {
        "scrolled": false,
        "id": "lNNLFvxaqkFG",
        "colab": {
          "base_uri": "https://localhost:8080/"
        },
        "outputId": "c36436f4-b0d9-4e74-e7b6-759388808e01"
      },
      "outputs": [
        {
          "output_type": "stream",
          "name": "stdout",
          "text": [
            "<class 'pandas.core.frame.DataFrame'>\n",
            "RangeIndex: 6750 entries, 0 to 6749\n",
            "Data columns (total 11 columns):\n",
            " #   Column         Non-Null Count  Dtype  \n",
            "---  ------         --------------  -----  \n",
            " 0   price          6750 non-null   float64\n",
            " 1   pusat_kota     6750 non-null   object \n",
            " 2   alamat         6750 non-null   object \n",
            " 3   jenis_rumah    6750 non-null   object \n",
            " 4   spek_rumah     6750 non-null   object \n",
            " 5   bedrooms       6750 non-null   int64  \n",
            " 6   bathrooms      6750 non-null   int64  \n",
            " 7   build_size     6750 non-null   float64\n",
            " 8   land_size      6750 non-null   float64\n",
            " 9   type_rumah     6750 non-null   object \n",
            " 10  type_bedrooms  6750 non-null   object \n",
            "dtypes: float64(3), int64(2), object(6)\n",
            "memory usage: 580.2+ KB\n"
          ]
        }
      ],
      "source": [
        "data.info()"
      ]
    },
    {
      "cell_type": "code",
      "source": [
        "sns.displot(np.log(data.price))"
      ],
      "metadata": {
        "id": "Sk3uibHy7n_9"
      },
      "execution_count": null,
      "outputs": []
    },
    {
      "cell_type": "code",
      "source": [
        "data.head()"
      ],
      "metadata": {
        "id": "s4xVme_MDaTp"
      },
      "execution_count": null,
      "outputs": []
    },
    {
      "cell_type": "code",
      "source": [
        "data.alamat.value_counts()"
      ],
      "metadata": {
        "id": "-BIzvGdadmSW"
      },
      "execution_count": null,
      "outputs": []
    },
    {
      "cell_type": "markdown",
      "metadata": {
        "id": "Zb_LBMSXqkFH"
      },
      "source": [
        "### Convert variabel alamat"
      ]
    },
    {
      "cell_type": "code",
      "execution_count": null,
      "metadata": {
        "id": "BnxT4nCFqkFO"
      },
      "outputs": [],
      "source": [
        "#data['location_bin'] = data.alamat.apply(lambda x: x if x in alamat else 'other')\n",
        "data['alamat'] = data.alamat.apply(lambda x: x)\n",
        "location_bin = data.alamat.value_counts()"
      ]
    },
    {
      "cell_type": "code",
      "source": [
        "location_bin"
      ],
      "metadata": {
        "id": "n1kUwKWd9iAv"
      },
      "execution_count": null,
      "outputs": []
    },
    {
      "cell_type": "code",
      "source": [
        "location_bin_10 = location_bin[location_bin<=10]\n",
        "location_bin_10"
      ],
      "metadata": {
        "id": "zP75jxjD9rEj"
      },
      "execution_count": null,
      "outputs": []
    },
    {
      "cell_type": "code",
      "source": [
        "data.alamat = data.alamat.apply(lambda x:'Other' if x in location_bin_10 else x)"
      ],
      "metadata": {
        "id": "y5sq2lkt-EfC"
      },
      "execution_count": null,
      "outputs": []
    },
    {
      "cell_type": "code",
      "execution_count": null,
      "metadata": {
        "id": "Ox6_klnQqkFP"
      },
      "outputs": [],
      "source": [
        "data.alamat.value_counts()"
      ]
    },
    {
      "cell_type": "code",
      "execution_count": null,
      "metadata": {
        "id": "HfQLGjQdqkFQ"
      },
      "outputs": [],
      "source": [
        "#sns.countplot(data.location_bin)"
      ]
    },
    {
      "cell_type": "code",
      "execution_count": null,
      "metadata": {
        "id": "YGc3Av3PqkFR"
      },
      "outputs": [],
      "source": [
        "#sns.boxplot(y='price', x='location_bin', data=data)"
      ]
    },
    {
      "cell_type": "code",
      "execution_count": null,
      "metadata": {
        "id": "YM12PMdNqkFT"
      },
      "outputs": [],
      "source": [
        "#data.drop(['alamat'], axis=1, inplace=True)"
      ]
    },
    {
      "cell_type": "code",
      "source": [
        "'''dummies = pd.get_dummies(data.location_bin)\n",
        "data = pd.concat([data,dummies.drop('other',axis='columns')],axis='columns')\n",
        "data.drop('location_bin',axis='columns',inplace=True)\n",
        "data.head(25)'''"
      ],
      "metadata": {
        "id": "cDqmtc8Lye05"
      },
      "execution_count": null,
      "outputs": []
    },
    {
      "cell_type": "code",
      "execution_count": null,
      "metadata": {
        "id": "83h9fC1PqkFU"
      },
      "outputs": [],
      "source": [
        "#data.to_csv('data_cleaned_3.csv')"
      ]
    },
    {
      "cell_type": "code",
      "source": [
        "\n",
        "#data.head()"
      ],
      "metadata": {
        "id": "Js3IbMtd3tgU"
      },
      "execution_count": null,
      "outputs": []
    },
    {
      "cell_type": "code",
      "source": [
        "#data.drop(['category','sub_category'],axis=1,inplace=True)"
      ],
      "metadata": {
        "id": "Ptob3Czk36MB"
      },
      "execution_count": null,
      "outputs": []
    },
    {
      "cell_type": "code",
      "source": [
        "data = data[data['alamat'] != 'Cangkringan Sleman']\n",
        "data = data[data['alamat'] != 'Tegalrejo']\n",
        "data = data[data['alamat'] != 'Ngawen Gunung Kidul']\n",
        "data = data[data['alamat'] != 'Karangmojo Gunung Kidul']\n",
        "data = data[data['alamat'] != 'Lendah Kulon Progo']\n",
        "data = data[data['alamat'] != 'Tanjungsari Gunung Kidul']\n",
        "data = data[data['alamat'] != 'Tepus Gunung Kidul']"
      ],
      "metadata": {
        "id": "6KEmwqOS_fj7"
      },
      "execution_count": null,
      "outputs": []
    },
    {
      "cell_type": "markdown",
      "metadata": {
        "id": "UbIVg4tEqkFU"
      },
      "source": [
        "### Model selection"
      ]
    },
    {
      "cell_type": "code",
      "execution_count": null,
      "metadata": {
        "id": "pwC5P2VlqkFV"
      },
      "outputs": [],
      "source": [
        "from sklearn.model_selection import train_test_split,cross_val_score,ShuffleSplit,GridSearchCV\n",
        "from sklearn.preprocessing import LabelEncoder,StandardScaler,OneHotEncoder\n",
        "from sklearn.pipeline import make_pipeline,Pipeline\n",
        "from sklearn.metrics import r2_score,accuracy_score\n",
        "from sklearn.metrics import mean_squared_error,mean_absolute_percentage_error, mean_absolute_error\n",
        "from sklearn.compose import ColumnTransformer,make_column_transformer"
      ]
    },
    {
      "cell_type": "markdown",
      "metadata": {
        "id": "DMqRNoiCqkFW"
      },
      "source": [
        "### Data Splitting"
      ]
    },
    {
      "cell_type": "code",
      "execution_count": null,
      "metadata": {
        "colab": {
          "base_uri": "https://localhost:8080/"
        },
        "id": "aLWQUh7JqkFW",
        "outputId": "e4dc6900-d996-4815-8d81-3c9f7493f792"
      },
      "outputs": [
        {
          "output_type": "execute_result",
          "data": {
            "text/plain": [
              "((4313, 9), (1849, 9), (4313,), (1849,))"
            ]
          },
          "metadata": {},
          "execution_count": 71
        }
      ],
      "source": [
        "X = data.drop(columns='price')\n",
        "y = np.log(data.price)\n",
        "\n",
        "X_train, X_test, y_train, y_test = train_test_split(X, y, test_size=0.3, random_state=42)\n",
        "X_train.shape, X_test.shape, y_train.shape, y_test.shape"
      ]
    },
    {
      "cell_type": "code",
      "source": [
        "X_train.head(1)"
      ],
      "metadata": {
        "id": "4HtzthOVY9-v",
        "colab": {
          "base_uri": "https://localhost:8080/",
          "height": 81
        },
        "outputId": "bf2af64f-6ff6-47f1-979e-de176219b69e"
      },
      "execution_count": null,
      "outputs": [
        {
          "output_type": "execute_result",
          "data": {
            "text/plain": [
              "             pusat_kota           alamat      spek_rumah jenis_rumah  \\\n",
              "4414  agak dekat <= 5km  Ngemplak Sleman  Rumah Menengah   Sederhana   \n",
              "\n",
              "      bedrooms  bathrooms  build_size  land_size  type_rumah  \n",
              "4414         3          2       136.0      118.0  tipe > 120  "
            ],
            "text/html": [
              "\n",
              "  <div id=\"df-06ea27fb-5d62-4720-8490-182efcf5d2ac\">\n",
              "    <div class=\"colab-df-container\">\n",
              "      <div>\n",
              "<style scoped>\n",
              "    .dataframe tbody tr th:only-of-type {\n",
              "        vertical-align: middle;\n",
              "    }\n",
              "\n",
              "    .dataframe tbody tr th {\n",
              "        vertical-align: top;\n",
              "    }\n",
              "\n",
              "    .dataframe thead th {\n",
              "        text-align: right;\n",
              "    }\n",
              "</style>\n",
              "<table border=\"1\" class=\"dataframe\">\n",
              "  <thead>\n",
              "    <tr style=\"text-align: right;\">\n",
              "      <th></th>\n",
              "      <th>pusat_kota</th>\n",
              "      <th>alamat</th>\n",
              "      <th>spek_rumah</th>\n",
              "      <th>jenis_rumah</th>\n",
              "      <th>bedrooms</th>\n",
              "      <th>bathrooms</th>\n",
              "      <th>build_size</th>\n",
              "      <th>land_size</th>\n",
              "      <th>type_rumah</th>\n",
              "    </tr>\n",
              "  </thead>\n",
              "  <tbody>\n",
              "    <tr>\n",
              "      <th>4414</th>\n",
              "      <td>agak dekat &lt;= 5km</td>\n",
              "      <td>Ngemplak Sleman</td>\n",
              "      <td>Rumah Menengah</td>\n",
              "      <td>Sederhana</td>\n",
              "      <td>3</td>\n",
              "      <td>2</td>\n",
              "      <td>136.0</td>\n",
              "      <td>118.0</td>\n",
              "      <td>tipe &gt; 120</td>\n",
              "    </tr>\n",
              "  </tbody>\n",
              "</table>\n",
              "</div>\n",
              "      <button class=\"colab-df-convert\" onclick=\"convertToInteractive('df-06ea27fb-5d62-4720-8490-182efcf5d2ac')\"\n",
              "              title=\"Convert this dataframe to an interactive table.\"\n",
              "              style=\"display:none;\">\n",
              "        \n",
              "  <svg xmlns=\"http://www.w3.org/2000/svg\" height=\"24px\"viewBox=\"0 0 24 24\"\n",
              "       width=\"24px\">\n",
              "    <path d=\"M0 0h24v24H0V0z\" fill=\"none\"/>\n",
              "    <path d=\"M18.56 5.44l.94 2.06.94-2.06 2.06-.94-2.06-.94-.94-2.06-.94 2.06-2.06.94zm-11 1L8.5 8.5l.94-2.06 2.06-.94-2.06-.94L8.5 2.5l-.94 2.06-2.06.94zm10 10l.94 2.06.94-2.06 2.06-.94-2.06-.94-.94-2.06-.94 2.06-2.06.94z\"/><path d=\"M17.41 7.96l-1.37-1.37c-.4-.4-.92-.59-1.43-.59-.52 0-1.04.2-1.43.59L10.3 9.45l-7.72 7.72c-.78.78-.78 2.05 0 2.83L4 21.41c.39.39.9.59 1.41.59.51 0 1.02-.2 1.41-.59l7.78-7.78 2.81-2.81c.8-.78.8-2.07 0-2.86zM5.41 20L4 18.59l7.72-7.72 1.47 1.35L5.41 20z\"/>\n",
              "  </svg>\n",
              "      </button>\n",
              "      \n",
              "  <style>\n",
              "    .colab-df-container {\n",
              "      display:flex;\n",
              "      flex-wrap:wrap;\n",
              "      gap: 12px;\n",
              "    }\n",
              "\n",
              "    .colab-df-convert {\n",
              "      background-color: #E8F0FE;\n",
              "      border: none;\n",
              "      border-radius: 50%;\n",
              "      cursor: pointer;\n",
              "      display: none;\n",
              "      fill: #1967D2;\n",
              "      height: 32px;\n",
              "      padding: 0 0 0 0;\n",
              "      width: 32px;\n",
              "    }\n",
              "\n",
              "    .colab-df-convert:hover {\n",
              "      background-color: #E2EBFA;\n",
              "      box-shadow: 0px 1px 2px rgba(60, 64, 67, 0.3), 0px 1px 3px 1px rgba(60, 64, 67, 0.15);\n",
              "      fill: #174EA6;\n",
              "    }\n",
              "\n",
              "    [theme=dark] .colab-df-convert {\n",
              "      background-color: #3B4455;\n",
              "      fill: #D2E3FC;\n",
              "    }\n",
              "\n",
              "    [theme=dark] .colab-df-convert:hover {\n",
              "      background-color: #434B5C;\n",
              "      box-shadow: 0px 1px 3px 1px rgba(0, 0, 0, 0.15);\n",
              "      filter: drop-shadow(0px 1px 2px rgba(0, 0, 0, 0.3));\n",
              "      fill: #FFFFFF;\n",
              "    }\n",
              "  </style>\n",
              "\n",
              "      <script>\n",
              "        const buttonEl =\n",
              "          document.querySelector('#df-06ea27fb-5d62-4720-8490-182efcf5d2ac button.colab-df-convert');\n",
              "        buttonEl.style.display =\n",
              "          google.colab.kernel.accessAllowed ? 'block' : 'none';\n",
              "\n",
              "        async function convertToInteractive(key) {\n",
              "          const element = document.querySelector('#df-06ea27fb-5d62-4720-8490-182efcf5d2ac');\n",
              "          const dataTable =\n",
              "            await google.colab.kernel.invokeFunction('convertToInteractive',\n",
              "                                                     [key], {});\n",
              "          if (!dataTable) return;\n",
              "\n",
              "          const docLinkHtml = 'Like what you see? Visit the ' +\n",
              "            '<a target=\"_blank\" href=https://colab.research.google.com/notebooks/data_table.ipynb>data table notebook</a>'\n",
              "            + ' to learn more about interactive tables.';\n",
              "          element.innerHTML = '';\n",
              "          dataTable['output_type'] = 'display_data';\n",
              "          await google.colab.output.renderOutput(dataTable, element);\n",
              "          const docLink = document.createElement('div');\n",
              "          docLink.innerHTML = docLinkHtml;\n",
              "          element.appendChild(docLink);\n",
              "        }\n",
              "      </script>\n",
              "    </div>\n",
              "  </div>\n",
              "  "
            ]
          },
          "metadata": {},
          "execution_count": 62
        }
      ]
    },
    {
      "cell_type": "code",
      "execution_count": null,
      "metadata": {
        "id": "QkUqf0o1qkFX"
      },
      "outputs": [],
      "source": [
        "col_trans = ColumnTransformer(transformers=[('col_tnf',OneHotEncoder(sparse = False,drop='first'),[0,1,2,3,8])],remainder='passthrough')\n",
        "#col_trans = ColumnTransformer(transformers=[(OneHotEncoder(drop='first'),\n",
        "#                                     ['alamat','pusat_kota','jenis_rumah',\n",
        "#                                      'spek_rumah','type_rumah','type_bedrooms'])],\n",
        "#                                    remainder='passthrough')'''\n",
        "\n"
      ]
    },
    {
      "cell_type": "code",
      "source": [
        "data.head()"
      ],
      "metadata": {
        "id": "pbWg7MKC5C7b"
      },
      "execution_count": null,
      "outputs": []
    },
    {
      "cell_type": "code",
      "execution_count": null,
      "metadata": {
        "id": "opt6AMPhqkFY"
      },
      "outputs": [],
      "source": [
        "sc = StandardScaler() "
      ]
    },
    {
      "cell_type": "markdown",
      "metadata": {
        "id": "4VUedCF7qkFY"
      },
      "source": [
        "### Permodel Algoritma"
      ]
    },
    {
      "cell_type": "code",
      "execution_count": null,
      "metadata": {
        "id": "KQY0vzFeqkFZ"
      },
      "outputs": [],
      "source": [
        "from sklearn.linear_model import Lasso,Ridge,LinearRegression, LogisticRegression\n",
        "from sklearn.tree import DecisionTreeRegressor\n",
        "from sklearn.ensemble import RandomForestRegressor,RandomForestClassifier\n",
        "from sklearn.neighbors import KNeighborsRegressor,KNeighborsClassifier\n",
        "from sklearn.svm import SVR,SVC"
      ]
    },
    {
      "cell_type": "code",
      "execution_count": null,
      "metadata": {
        "id": "PGtNvJmuqkFZ",
        "colab": {
          "base_uri": "https://localhost:8080/"
        },
        "outputId": "9901f156-e185-450d-91fb-42bc1f0119de"
      },
      "outputs": [
        {
          "output_type": "stream",
          "name": "stdout",
          "text": [
            "R2 Score =  0.9644390302164229\n",
            "MAPE Score =  0.019603386888957533\n",
            "MSE Score =  0.02905572726798467\n",
            "RMSE Score =  0.1704574060226914\n"
          ]
        },
        {
          "output_type": "stream",
          "name": "stderr",
          "text": [
            "/usr/local/lib/python3.7/dist-packages/sklearn/linear_model/_base.py:145: FutureWarning: 'normalize' was deprecated in version 1.0 and will be removed in 1.2.\n",
            "If you wish to scale the data, use Pipeline with a StandardScaler in a preprocessing stage. To reproduce the previous behavior:\n",
            "\n",
            "from sklearn.pipeline import make_pipeline\n",
            "\n",
            "model = make_pipeline(StandardScaler(with_mean=False), LinearRegression())\n",
            "\n",
            "If you wish to pass a sample_weight parameter, you need to pass it as a fit parameter to each step of the pipeline as follows:\n",
            "\n",
            "kwargs = {s[0] + '__sample_weight': sample_weight for s in model.steps}\n",
            "model.fit(X, y, **kwargs)\n",
            "\n",
            "\n",
            "  FutureWarning,\n"
          ]
        }
      ],
      "source": [
        "lr = LinearRegression(normalize=True)\n",
        "pipe = make_pipeline(col_trans,sc,lr)\n",
        "pipe.fit(X_train,y_train)\n",
        "y_predict = pipe.predict(X_test)\n",
        "print('R2 Score = ',r2_score(y_test,y_predict))\n",
        "print('MAPE Score = ',mean_absolute_percentage_error(y_test,y_predict))\n",
        "print('MSE Score = ',mean_squared_error(y_test,y_predict))\n",
        "print('RMSE Score = ',mean_squared_error(y_test,y_predict, squared=False))"
      ]
    },
    {
      "cell_type": "code",
      "execution_count": null,
      "metadata": {
        "scrolled": true,
        "id": "Hgri7S85qkFa"
      },
      "outputs": [],
      "source": [
        "sns.distplot((y_test-y_predict))"
      ]
    },
    {
      "cell_type": "code",
      "execution_count": null,
      "metadata": {
        "colab": {
          "base_uri": "https://localhost:8080/"
        },
        "id": "jU662oLBqkFb",
        "outputId": "35e81556-1d70-49b5-e208-f2fad5ddc02b"
      },
      "outputs": [
        {
          "output_type": "stream",
          "name": "stdout",
          "text": [
            "R2 Score =  0.5006178175399726\n",
            "MAPE Score =  0.34706916551018413\n"
          ]
        }
      ],
      "source": [
        "lasso = Lasso()\n",
        "pipe1 = make_pipeline(sc,lasso)\n",
        "pipe1.fit(X_train,y_train)\n",
        "y_predict = pipe1.predict(X_test)\n",
        "print('R2 Score = ',r2_score(y_test,y_predict))\n",
        "print('MAPE Score = ',mean_absolute_percentage_error(y_test,y_predict))"
      ]
    },
    {
      "cell_type": "code",
      "execution_count": null,
      "metadata": {
        "scrolled": true,
        "colab": {
          "base_uri": "https://localhost:8080/"
        },
        "id": "Sj4fhhTAqkFc",
        "outputId": "201621b7-55b1-43b3-cd7b-b1b922037d57"
      },
      "outputs": [
        {
          "output_type": "stream",
          "name": "stdout",
          "text": [
            "R2 Score =  0.9617328612252652\n",
            "MAPE Score =  0.01963994664903667\n"
          ]
        }
      ],
      "source": [
        "rr = Ridge()\n",
        "pipe2 = make_pipeline(col_trans,sc,rr)\n",
        "pipe2.fit(X_train,y_train)\n",
        "y_predict = pipe2.predict(X_test)\n",
        "print('R2 Score = ',r2_score(y_test,y_predict))\n",
        "\n",
        "print('MAPE Score = ',mean_absolute_percentage_error(y_test,y_predict))"
      ]
    },
    {
      "cell_type": "markdown",
      "metadata": {
        "id": "PmWxEKpcqkFc"
      },
      "source": [
        "### Model Algoritma Random Forest"
      ]
    },
    {
      "cell_type": "code",
      "execution_count": null,
      "metadata": {
        "id": "thK4b2xpqkFd",
        "colab": {
          "base_uri": "https://localhost:8080/"
        },
        "outputId": "0132dcd5-e8f5-4e6e-c523-6947c0bfe94b"
      },
      "outputs": [
        {
          "output_type": "stream",
          "name": "stdout",
          "text": [
            "R2 Score =  0.9707691522616231\n",
            "MAE 1 =  0.11257906459405327\n",
            "MAE 2 =  0.046935092828835866\n",
            "MSE Score =  0.023259818206212774\n",
            "RMSE Score =  0.15251169858805183\n"
          ]
        }
      ],
      "source": [
        "rfr = RandomForestRegressor(n_estimators=100)\n",
        "pipe3 = make_pipeline(col_trans,sc,rfr)\n",
        "pipe3.fit(X_train,y_train)\n",
        "y_predict = pipe3.predict(X_test)\n",
        "y_trainpred = pipe3.predict(X_train)\n",
        "print('R2 Score = ',r2_score(y_test,y_predict))\n",
        "print('MAE 1 = ',mean_absolute_error(y_test,y_predict))\n",
        "print('MAE 2 = ',mean_absolute_error(y_train,y_trainpred))\n",
        "print('MSE Score = ',mean_squared_error(y_test,y_predict))\n",
        "print('RMSE Score = ',mean_squared_error(y_test,y_predict, squared=False))"
      ]
    },
    {
      "cell_type": "code",
      "source": [
        "hasil1=pd.DataFrame(y_predict)\n",
        "hasil1.head()"
      ],
      "metadata": {
        "id": "agnv8Td7_agy"
      },
      "execution_count": null,
      "outputs": []
    },
    {
      "cell_type": "markdown",
      "metadata": {
        "id": "nxlKoWvOqkFe"
      },
      "source": [
        "### Model Algoritma SVR"
      ]
    },
    {
      "cell_type": "code",
      "execution_count": null,
      "metadata": {
        "colab": {
          "base_uri": "https://localhost:8080/"
        },
        "id": "AZuLj28rqkFe",
        "outputId": "ebf1f7da-f645-4c74-ea94-e2b4dda3c64d"
      },
      "outputs": [
        {
          "output_type": "stream",
          "name": "stdout",
          "text": [
            "R2 Score =  0.9647871484002242\n",
            "MAPE =  0.01924242960477672\n"
          ]
        }
      ],
      "source": [
        "svr = SVR(kernel='linear')\n",
        "pipe5 = make_pipeline(col_trans,sc,svr)\n",
        "pipe5.fit(X_train,y_train)\n",
        "y_predict = pipe5.predict(X_test)\n",
        "print('R2 Score = ',r2_score(y_test,y_predict))\n",
        "print('MAPE = ',mean_absolute_percentage_error(y_test,y_predict))"
      ]
    },
    {
      "cell_type": "code",
      "source": [
        "hasil2=pd.DataFrame(y_predict)\n",
        "hasil2.head()"
      ],
      "metadata": {
        "id": "FzX6TLiW_3fu"
      },
      "execution_count": null,
      "outputs": []
    },
    {
      "cell_type": "markdown",
      "metadata": {
        "id": "vyyfMcxMqkFf"
      },
      "source": [
        "### Model Algoritma KNN"
      ]
    },
    {
      "cell_type": "code",
      "execution_count": null,
      "metadata": {
        "id": "FOm4S3vUqkFg",
        "colab": {
          "base_uri": "https://localhost:8080/"
        },
        "outputId": "7485a795-03a8-4434-dc76-96c734f27666"
      },
      "outputs": [
        {
          "output_type": "stream",
          "name": "stdout",
          "text": [
            "R2 Score =  0.8554073010183232\n",
            "MAPE =  0.030602244314282722\n"
          ]
        }
      ],
      "source": [
        "knn = KNeighborsRegressor(n_neighbors = 16)\n",
        "pipe6 = make_pipeline(col_trans,sc,knn)\n",
        "pipe6.fit(X_train,y_train)\n",
        "y_predict = pipe6.predict(X_test)\n",
        "print('R2 Score = ',r2_score(y_test,y_predict))\n",
        "print('MAPE = ',mean_absolute_percentage_error(y_test,y_predict))"
      ]
    },
    {
      "cell_type": "markdown",
      "source": [
        "###trying\n"
      ],
      "metadata": {
        "id": "-_pBraeOLydJ"
      }
    },
    {
      "cell_type": "code",
      "source": [
        "cv = ShuffleSplit(n_splits=5, test_size=0.2, random_state=0)\n",
        "cross_val_score(RandomForestRegressor(n_estimators= 100), X, y, cv=cv)"
      ],
      "metadata": {
        "id": "bapxZDGUL1Wt",
        "colab": {
          "base_uri": "https://localhost:8080/"
        },
        "outputId": "9c72dff5-291c-4a85-da18-bc432e34fb5d"
      },
      "execution_count": null,
      "outputs": [
        {
          "output_type": "stream",
          "name": "stderr",
          "text": [
            "/usr/local/lib/python3.7/dist-packages/sklearn/model_selection/_validation.py:372: FitFailedWarning: \n",
            "5 fits failed out of a total of 5.\n",
            "The score on these train-test partitions for these parameters will be set to nan.\n",
            "If these failures are not expected, you can try to debug them by setting error_score='raise'.\n",
            "\n",
            "Below are more details about the failures:\n",
            "--------------------------------------------------------------------------------\n",
            "1 fits failed with the following error:\n",
            "Traceback (most recent call last):\n",
            "  File \"/usr/local/lib/python3.7/dist-packages/sklearn/model_selection/_validation.py\", line 680, in _fit_and_score\n",
            "    estimator.fit(X_train, y_train, **fit_params)\n",
            "  File \"/usr/local/lib/python3.7/dist-packages/sklearn/ensemble/_forest.py\", line 328, in fit\n",
            "    X, y, multi_output=True, accept_sparse=\"csc\", dtype=DTYPE\n",
            "  File \"/usr/local/lib/python3.7/dist-packages/sklearn/base.py\", line 581, in _validate_data\n",
            "    X, y = check_X_y(X, y, **check_params)\n",
            "  File \"/usr/local/lib/python3.7/dist-packages/sklearn/utils/validation.py\", line 976, in check_X_y\n",
            "    estimator=estimator,\n",
            "  File \"/usr/local/lib/python3.7/dist-packages/sklearn/utils/validation.py\", line 746, in check_array\n",
            "    array = np.asarray(array, order=order, dtype=dtype)\n",
            "  File \"/usr/local/lib/python3.7/dist-packages/pandas/core/generic.py\", line 1993, in __array__\n",
            "    return np.asarray(self._values, dtype=dtype)\n",
            "ValueError: could not convert string to float: 'lumayan dekat <= 3km'\n",
            "\n",
            "--------------------------------------------------------------------------------\n",
            "1 fits failed with the following error:\n",
            "Traceback (most recent call last):\n",
            "  File \"/usr/local/lib/python3.7/dist-packages/sklearn/model_selection/_validation.py\", line 680, in _fit_and_score\n",
            "    estimator.fit(X_train, y_train, **fit_params)\n",
            "  File \"/usr/local/lib/python3.7/dist-packages/sklearn/ensemble/_forest.py\", line 328, in fit\n",
            "    X, y, multi_output=True, accept_sparse=\"csc\", dtype=DTYPE\n",
            "  File \"/usr/local/lib/python3.7/dist-packages/sklearn/base.py\", line 581, in _validate_data\n",
            "    X, y = check_X_y(X, y, **check_params)\n",
            "  File \"/usr/local/lib/python3.7/dist-packages/sklearn/utils/validation.py\", line 976, in check_X_y\n",
            "    estimator=estimator,\n",
            "  File \"/usr/local/lib/python3.7/dist-packages/sklearn/utils/validation.py\", line 746, in check_array\n",
            "    array = np.asarray(array, order=order, dtype=dtype)\n",
            "  File \"/usr/local/lib/python3.7/dist-packages/pandas/core/generic.py\", line 1993, in __array__\n",
            "    return np.asarray(self._values, dtype=dtype)\n",
            "ValueError: could not convert string to float: 'sangat dekat <= 2km'\n",
            "\n",
            "--------------------------------------------------------------------------------\n",
            "1 fits failed with the following error:\n",
            "Traceback (most recent call last):\n",
            "  File \"/usr/local/lib/python3.7/dist-packages/sklearn/model_selection/_validation.py\", line 680, in _fit_and_score\n",
            "    estimator.fit(X_train, y_train, **fit_params)\n",
            "  File \"/usr/local/lib/python3.7/dist-packages/sklearn/ensemble/_forest.py\", line 328, in fit\n",
            "    X, y, multi_output=True, accept_sparse=\"csc\", dtype=DTYPE\n",
            "  File \"/usr/local/lib/python3.7/dist-packages/sklearn/base.py\", line 581, in _validate_data\n",
            "    X, y = check_X_y(X, y, **check_params)\n",
            "  File \"/usr/local/lib/python3.7/dist-packages/sklearn/utils/validation.py\", line 976, in check_X_y\n",
            "    estimator=estimator,\n",
            "  File \"/usr/local/lib/python3.7/dist-packages/sklearn/utils/validation.py\", line 746, in check_array\n",
            "    array = np.asarray(array, order=order, dtype=dtype)\n",
            "  File \"/usr/local/lib/python3.7/dist-packages/pandas/core/generic.py\", line 1993, in __array__\n",
            "    return np.asarray(self._values, dtype=dtype)\n",
            "ValueError: could not convert string to float: 'jauh'\n",
            "\n",
            "--------------------------------------------------------------------------------\n",
            "1 fits failed with the following error:\n",
            "Traceback (most recent call last):\n",
            "  File \"/usr/local/lib/python3.7/dist-packages/sklearn/model_selection/_validation.py\", line 680, in _fit_and_score\n",
            "    estimator.fit(X_train, y_train, **fit_params)\n",
            "  File \"/usr/local/lib/python3.7/dist-packages/sklearn/ensemble/_forest.py\", line 328, in fit\n",
            "    X, y, multi_output=True, accept_sparse=\"csc\", dtype=DTYPE\n",
            "  File \"/usr/local/lib/python3.7/dist-packages/sklearn/base.py\", line 581, in _validate_data\n",
            "    X, y = check_X_y(X, y, **check_params)\n",
            "  File \"/usr/local/lib/python3.7/dist-packages/sklearn/utils/validation.py\", line 976, in check_X_y\n",
            "    estimator=estimator,\n",
            "  File \"/usr/local/lib/python3.7/dist-packages/sklearn/utils/validation.py\", line 746, in check_array\n",
            "    array = np.asarray(array, order=order, dtype=dtype)\n",
            "  File \"/usr/local/lib/python3.7/dist-packages/pandas/core/generic.py\", line 1993, in __array__\n",
            "    return np.asarray(self._values, dtype=dtype)\n",
            "ValueError: could not convert string to float: 'agak dekat <= 5km'\n",
            "\n",
            "--------------------------------------------------------------------------------\n",
            "1 fits failed with the following error:\n",
            "Traceback (most recent call last):\n",
            "  File \"/usr/local/lib/python3.7/dist-packages/sklearn/model_selection/_validation.py\", line 680, in _fit_and_score\n",
            "    estimator.fit(X_train, y_train, **fit_params)\n",
            "  File \"/usr/local/lib/python3.7/dist-packages/sklearn/ensemble/_forest.py\", line 328, in fit\n",
            "    X, y, multi_output=True, accept_sparse=\"csc\", dtype=DTYPE\n",
            "  File \"/usr/local/lib/python3.7/dist-packages/sklearn/base.py\", line 581, in _validate_data\n",
            "    X, y = check_X_y(X, y, **check_params)\n",
            "  File \"/usr/local/lib/python3.7/dist-packages/sklearn/utils/validation.py\", line 976, in check_X_y\n",
            "    estimator=estimator,\n",
            "  File \"/usr/local/lib/python3.7/dist-packages/sklearn/utils/validation.py\", line 746, in check_array\n",
            "    array = np.asarray(array, order=order, dtype=dtype)\n",
            "  File \"/usr/local/lib/python3.7/dist-packages/pandas/core/generic.py\", line 1993, in __array__\n",
            "    return np.asarray(self._values, dtype=dtype)\n",
            "ValueError: could not convert string to float: 'sedang'\n",
            "\n",
            "  warnings.warn(some_fits_failed_message, FitFailedWarning)\n"
          ]
        },
        {
          "output_type": "execute_result",
          "data": {
            "text/plain": [
              "array([nan, nan, nan, nan, nan])"
            ]
          },
          "metadata": {},
          "execution_count": 76
        }
      ]
    },
    {
      "cell_type": "code",
      "source": [
        "def predict_price(location_bin,build_size,land_size,bathrooms,badrooms):    \n",
        "    loc_index = np.where(X.columns==location_bin)[0][0]\n",
        "\n",
        "    x = np.zeros(len(X.columns))\n",
        "    x[0] = build_size\n",
        "    x[1] = land_size\n",
        "    x[2] = bathrooms\n",
        "    x[3] = badrooms\n",
        "    if loc_index >= 0:\n",
        "        x[loc_index] = 1\n",
        "\n",
        "    return rfr.predict([x])[0]"
      ],
      "metadata": {
        "id": "EWObz6-_193_"
      },
      "execution_count": null,
      "outputs": []
    },
    {
      "cell_type": "code",
      "source": [
        "data.head(25)"
      ],
      "metadata": {
        "id": "c69_1jZt3FZP"
      },
      "execution_count": null,
      "outputs": []
    },
    {
      "cell_type": "code",
      "source": [
        "result = predict_price('Sewon Bantul',62,75,2,2)\n",
        "print(result)"
      ],
      "metadata": {
        "id": "WOhXgUPI3OY8"
      },
      "execution_count": null,
      "outputs": []
    },
    {
      "cell_type": "code",
      "source": [
        "#Adjustment 15%\n",
        "\n",
        "adjust_1 = result-result*0.20\n",
        "print(adjust_1)"
      ],
      "metadata": {
        "id": "RXxTBhRd3b5z",
        "colab": {
          "base_uri": "https://localhost:8080/"
        },
        "outputId": "29e62c50-6524-4867-f5b4-69ec48474d6e"
      },
      "execution_count": null,
      "outputs": [
        {
          "output_type": "stream",
          "name": "stdout",
          "text": [
            "1631.2666666666669\n"
          ]
        }
      ]
    },
    {
      "cell_type": "code",
      "source": [
        "#adjusment kenaikan harga bahan bangunan = 22.14%\n",
        "\n",
        "adjust_khbb = adjust_1-adjust_1*0.2214\n",
        "print(adjust_khbb)"
      ],
      "metadata": {
        "id": "712hjcAKBm3D",
        "colab": {
          "base_uri": "https://localhost:8080/"
        },
        "outputId": "c674c0f1-8a4d-4cd6-e65e-b41f9b646976"
      },
      "execution_count": null,
      "outputs": [
        {
          "output_type": "stream",
          "name": "stdout",
          "text": [
            "1270.1042266666668\n"
          ]
        }
      ]
    },
    {
      "cell_type": "code",
      "source": [
        "#adjustment perizinan/birokrasi = 14.40%\n",
        "\n",
        "adjust_perizinan = adjust_khbb-adjust_khbb*0.1440\n",
        "print(adjust_perizinan)"
      ],
      "metadata": {
        "id": "xl7vCuE4CHwi",
        "colab": {
          "base_uri": "https://localhost:8080/"
        },
        "outputId": "ebc0a1b7-fbcf-47bc-f756-e64894343135"
      },
      "execution_count": null,
      "outputs": [
        {
          "output_type": "stream",
          "name": "stdout",
          "text": [
            "1087.2092180266668\n"
          ]
        }
      ]
    },
    {
      "cell_type": "code",
      "source": [
        "#adjusment uang muka KPR = 12.33%\n",
        "\n",
        "adjust_kpr = adjust_perizinan-adjust_perizinan*0.1233\n",
        "print(adjust_kpr)"
      ],
      "metadata": {
        "id": "qjmCzd-4DLcM",
        "colab": {
          "base_uri": "https://localhost:8080/"
        },
        "outputId": "a8253596-c883-476b-afa2-4d73af0532ef"
      },
      "execution_count": null,
      "outputs": [
        {
          "output_type": "stream",
          "name": "stdout",
          "text": [
            "953.1563214439788\n"
          ]
        }
      ]
    },
    {
      "cell_type": "code",
      "source": [
        "#adjustment pajak = 8.62%\n",
        "\n",
        "adjust_pajak = adjust_kpr-adjust_kpr*0.0862\n",
        "print(adjust_pajak)"
      ],
      "metadata": {
        "id": "q4ezryLJD7Hz",
        "colab": {
          "base_uri": "https://localhost:8080/"
        },
        "outputId": "a85de78c-12be-4ca3-ce2e-b02c9f2313ef"
      },
      "execution_count": null,
      "outputs": [
        {
          "output_type": "stream",
          "name": "stdout",
          "text": [
            "870.9942465355077\n"
          ]
        }
      ]
    },
    {
      "cell_type": "code",
      "source": [
        "#adjust proporsi uang muka KPR\n",
        "\n",
        "adjust_um = adjust_pajak-adjust_pajak*0.1170\n",
        "print(adjust_um)"
      ],
      "metadata": {
        "colab": {
          "base_uri": "https://localhost:8080/"
        },
        "id": "DL0HVg2s68bp",
        "outputId": "b2daf6f5-ed18-4346-ae47-be1f9a9c8816"
      },
      "execution_count": null,
      "outputs": [
        {
          "output_type": "stream",
          "name": "stdout",
          "text": [
            "769.0879196908534\n"
          ]
        }
      ]
    },
    {
      "cell_type": "code",
      "source": [
        "#adjusment inflasi (bisa inflasi bulanan/kuartalan/tahunan) e.g = 4.94% (inflasi tahunan)\n",
        "adjust_inflasi = adjust_um-adjust_um*0.0494\n",
        "print(adjust_inflasi)"
      ],
      "metadata": {
        "id": "D2BdT-yGH9Ts",
        "colab": {
          "base_uri": "https://localhost:8080/"
        },
        "outputId": "e49a5f61-0f88-47cb-ceff-6451eeef438b"
      },
      "execution_count": null,
      "outputs": [
        {
          "output_type": "stream",
          "name": "stdout",
          "text": [
            "731.0949764581252\n"
          ]
        }
      ]
    },
    {
      "cell_type": "code",
      "source": [
        "#dikali 1.000.000\n",
        "output = adjust_inflasi*1000000\n",
        "print(output)"
      ],
      "metadata": {
        "id": "D9LVMTxVI6bH"
      },
      "execution_count": null,
      "outputs": []
    },
    {
      "cell_type": "code",
      "source": [],
      "metadata": {
        "id": "c_ktXmiTDZNP"
      },
      "execution_count": null,
      "outputs": []
    },
    {
      "cell_type": "markdown",
      "source": [
        "###Import pickle"
      ],
      "metadata": {
        "id": "NrzNArVvDbqu"
      }
    },
    {
      "cell_type": "code",
      "source": [
        "import pickle\n",
        "pickle.dump(data,open('data.pkl','wb'))\n",
        "pickle.dump(pipe3,open('pipe3.pkl','wb'))"
      ],
      "metadata": {
        "id": "FPNH6B_jDgWg"
      },
      "execution_count": null,
      "outputs": []
    }
  ],
  "metadata": {
    "kernelspec": {
      "display_name": "Python 3",
      "language": "python",
      "name": "python3"
    },
    "language_info": {
      "codemirror_mode": {
        "name": "ipython",
        "version": 3
      },
      "file_extension": ".py",
      "mimetype": "text/x-python",
      "name": "python",
      "nbconvert_exporter": "python",
      "pygments_lexer": "ipython3",
      "version": "3.8.3"
    },
    "colab": {
      "provenance": [],
      "collapsed_sections": [
        "-O9wscV1qkEg",
        "BjCBxXmPACCP",
        "Zb_LBMSXqkFH"
      ]
    }
  },
  "nbformat": 4,
  "nbformat_minor": 0
}